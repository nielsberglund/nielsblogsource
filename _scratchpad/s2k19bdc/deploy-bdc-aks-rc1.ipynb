{
    "metadata": {
        "kernelspec": {
            "name": "python3",
            "display_name": "Python 3"
        },
        "language_info": {
            "name": "python",
            "version": "3.7.3",
            "mimetype": "text/x-python",
            "codemirror_mode": {
                "name": "ipython",
                "version": 3
            },
            "pygments_lexer": "ipython3",
            "nbconvert_exporter": "python",
            "file_extension": ".py"
        }
    },
    "nbformat_minor": 2,
    "nbformat": 4,
    "cells": [
        {
            "cell_type": "markdown",
            "source": [
                "![Microsoft](https://raw.githubusercontent.com/microsoft/azuredatastudio/master/src/sql/media/microsoft-small-logo.png)\n",
                " \n",
                "## Create Azure Kubernetes Service cluster and deploy SQL Server 2019 big data cluster\n",
                " \n",
                "This notebook walks through the process of creating a new Azure Kubernetes Service cluster first, and then deploys a <a href=\"https://docs.microsoft.com/sql/big-data-cluster/big-data-cluster-overview?view=sqlallproducts-allversions\">SQL Server 2019 big data cluster</a> on the newly created AKS cluster.\n",
                " \n",
                "* Follow the instructions in the **Prerequisites** cell to install the tools if not already installed.\n",
                "* The **Required information** cell will prompt you for a password that will be used to access the cluster controller, SQL Server, and Knox.\n",
                "* The values in the **Azure settings** and **Default settings** cell can be changed as appropriate.\n",
                "\n",
                "<span style=\"color:red\"><font size=\"3\">Please press the \"Run Cells\" button to run the notebook</font></span>"
            ],
            "metadata": {
                "azdata_cell_guid": "21f74030-805f-4e11-a86f-f30e56cc3c4d"
            }
        },
        {
            "cell_type": "markdown",
            "source": [
                "### **Prerequisites**\n",
                "Ensure the following tools are installed and added to PATH before proceeding.\n",
                "\n",
                "|Tools|Description|Installation|\n",
                "|---|---|---|\n",
                "|Azure CLI |Command-line tool for managing Azure services. Used to create AKS cluster | [Installation](https://docs.microsoft.com/cli/azure/install-azure-cli?view=azure-cli-latest) |\n",
                "|kubectl | Command-line tool for monitoring the underlying Kuberentes cluster | [Installation](https://kubernetes.io/docs/tasks/tools/install-kubectl/#install-kubectl-binary-using-native-package-management) |\n",
                "|azdata | Command-line tool for installing and managing a big data cluster |[Installation](https://docs.microsoft.com/en-us/sql/big-data-cluster/deploy-install-azdata?view=sqlallproducts-allversions) |"
            ],
            "metadata": {
                "azdata_cell_guid": "48e4201e-54ee-4652-9695-99fb0946318e"
            }
        },
        {
            "cell_type": "markdown",
            "source": [
                "### **Check dependencies**"
            ],
            "metadata": {
                "azdata_cell_guid": "f135ae64-78c7-4d4c-b7a2-97608df469ed"
            }
        },
        {
            "cell_type": "code",
            "source": [
                "import pandas,sys,os,getpass,time,json,html\r\n",
                "pandas_version = pandas.__version__.split('.')\r\n",
                "pandas_major = int(pandas_version[0])\r\n",
                "pandas_minor = int(pandas_version[1])\r\n",
                "pandas_patch = int(pandas_version[2])\r\n",
                "if not (pandas_major > 0 or (pandas_major == 0 and pandas_minor > 24) or (pandas_major == 0 and pandas_minor == 24 and pandas_patch >= 2)):\r\n",
                "    sys.exit('Please upgrade the Notebook dependency before you can proceed, you can do it by running the \"Reinstall Notebook dependencies\" command in command palette (View menu -> Command Palette…).')\r\n",
                "\r\n",
                "def run_command():\r\n",
                "    print(\"Executing: \" + cmd)\r\n",
                "    !{cmd}\r\n",
                "    if _exit_code != 0:\r\n",
                "        sys.exit(f'Command execution failed with exit code: {str(_exit_code)}.\\n\\t{cmd}\\n')\r\n",
                "    print(f'Successfully executed: {cmd}')\r\n",
                "\r\n",
                "cmd = 'az --version'\r\n",
                "run_command()\r\n",
                "cmd = 'kubectl version --client=true'\r\n",
                "run_command()\r\n",
                "cmd = 'azdata --version'\r\n",
                "run_command()"
            ],
            "metadata": {
                "azdata_cell_guid": "5d6a93f0-3d0e-47ad-8d29-d783f233e801"
            },
            "outputs": [
                {
                    "output_type": "stream",
                    "name": "stdout",
                    "text": "Executing: az --version\n"
                },
                {
                    "output_type": "stream",
                    "name": "stdout",
                    "text": "azure-cli                         2.0.70 *\n\ncommand-modules-nspkg               2.0.3\ncore                              2.0.70 *\nnspkg                              3.0.4\ntelemetry                          1.0.3\n\nPython location 'C:\\Program Files (x86)\\Microsoft SDKs\\Azure\\CLI2\\python.exe'\nExtensions directory 'C:\\Users\\niels\\.azure\\cliextensions'\n\nPython (Windows) 3.6.6 (v3.6.6:4cf1f54eb7, Jun 27 2018, 02:47:15) [MSC v.1900 32 bit (Intel)]\n\nLegal docs and information: aka.ms/AzureCliLegal\n\n\nSuccessfully executed: az --version\nExecuting: kubectl version --client=true\n"
                },
                {
                    "output_type": "stream",
                    "name": "stderr",
                    "text": "WARNING: You have 2 updates available. Consider updating your CLI installation.\n"
                },
                {
                    "output_type": "stream",
                    "name": "stdout",
                    "text": "Client Version: version.Info{Major:\"1\", Minor:\"14\", GitVersion:\"v1.14.3\", GitCommit:\"5e53fd6bc17c0dec8434817e69b04a25d8ae0ff0\", GitTreeState:\"clean\", BuildDate:\"2019-06-06T01:44:30Z\", GoVersion:\"go1.12.5\", Compiler:\"gc\", Platform:\"windows/amd64\"}\nSuccessfully executed: kubectl version --client=true\nExecuting: azdata --version\n"
                },
                {
                    "output_type": "stream",
                    "name": "stdout",
                    "text": "15.0.1900\n\nPython (Windows) 3.7.3 (v3.7.3:ef4ec6ed12, Mar 25 2019, 22:22:05) [MSC v.1916 64 bit (AMD64)]\n\nPython location 'c:\\python37\\python.exe'\n\nSuccessfully executed: azdata --version\n"
                }
            ],
            "execution_count": 1
        },
        {
            "cell_type": "markdown",
            "source": [
                "### **Required information**"
            ],
            "metadata": {
                "azdata_cell_guid": "75f71ca5-54a6-4cac-89ec-033a54f547dc"
            }
        },
        {
            "cell_type": "code",
            "source": [
                "env_var_flag = \"AZDATA_NB_VAR_BDC_CONTROLLER_PASSWORD\" in os.environ\n",
                "if env_var_flag:\n",
                "    mssql_password = os.environ[\"AZDATA_NB_VAR_BDC_CONTROLLER_PASSWORD\"]\n",
                "else: \n",
                "    mssql_password = getpass.getpass(prompt = 'SQL Server 2019 big data cluster controller password')\n",
                "    if mssql_password == \"\":\n",
                "        sys.exit(f'Password is required.')\n",
                "    confirm_password = getpass.getpass(prompt = 'Confirm password')\n",
                "    if mssql_password != confirm_password:\n",
                "        sys.exit(f'Passwords do not match.')\n",
                "print('You can also use the same password to access Knox and SQL Server.')"
            ],
            "metadata": {
                "azdata_cell_guid": "a094e53d-626f-4962-8652-25fa6dcc3273"
            },
            "outputs": [
                {
                    "output_type": "stream",
                    "name": "stdout",
                    "text": "You can also use the same password to access Knox and SQL Server.\n"
                }
            ],
            "execution_count": 2
        },
        {
            "cell_type": "markdown",
            "source": [
                "### **Azure settings**\n",
                "*Subscription ID*: visit <a href=\"https://portal.azure.com/#blade/Microsoft_Azure_Billing/SubscriptionsBlade\">here</a> to find out the subscriptions you can use, if you leave it unspecified, the default subscription will be used.\n",
                "\n",
                "*VM Size*: visit <a href=\"https://docs.microsoft.com/en-us/azure/virtual-machines/linux/sizes\">here</a> to find out the available VM sizes you could use. \n",
                " \n",
                "*Region*: visit <a href=\"https://azure.microsoft.com/en-us/global-infrastructure/services/?products=kubernetes-service\">here</a> to find out the Azure regions where the Azure Kubernettes Service is available."
            ],
            "metadata": {
                "azdata_cell_guid": "0e35e837-7abf-41a9-bbb3-5a1e29742c46"
            }
        },
        {
            "cell_type": "code",
            "source": [
                "if env_var_flag:\n",
                "    azure_subscription_id = os.environ[\"AZDATA_NB_VAR_BDC_AZURE_SUBSCRIPTION\"]\n",
                "    azure_vm_size = os.environ[\"AZDATA_NB_VAR_BDC_AZURE_VM_SIZE\"]\n",
                "    azure_region = os.environ[\"AZDATA_NB_VAR_BDC_AZURE_REGION\"]\n",
                "    azure_vm_count = int(os.environ[\"AZDATA_NB_VAR_BDC_VM_COUNT\"])\n",
                "else:\n",
                "    azure_subscription_id = \"\"\n",
                "    azure_vm_size = \"Standard_E4s_v3\"\n",
                "    azure_region = \"eastus\"\n",
                "    azure_vm_count = int(5)"
            ],
            "metadata": {
                "azdata_cell_guid": "4a72a1d0-c984-4f91-97df-fe472bad9746"
            },
            "outputs": [],
            "execution_count": 3
        },
        {
            "cell_type": "markdown",
            "source": [
                "### **Default settings**"
            ],
            "metadata": {
                "azdata_cell_guid": "087c2214-798b-4749-8104-9d5f034a82ec"
            }
        },
        {
            "cell_type": "code",
            "source": [
                "if env_var_flag:\n",
                "    mssql_cluster_name = os.environ[\"AZDATA_NB_VAR_BDC_NAME\"]\n",
                "    mssql_controller_username = os.environ[\"AZDATA_NB_VAR_BDC_CONTROLLER_USERNAME\"]\n",
                "    azure_resource_group = os.environ[\"AZDATA_NB_VAR_BDC_RESOURCEGROUP_NAME\"]\n",
                "    aks_cluster_name = os.environ[\"AZDATA_NB_VAR_BDC_AKS_NAME\"]\n",
                "else:\n",
                "    mssql_cluster_name = 'mssql-cluster'\n",
                "    mssql_controller_username = 'admin'\n",
                "    azure_resource_group = mssql_cluster_name + '-' + time.strftime(\"%Y%m%d%H%M%S\", time.localtime())\n",
                "    aks_cluster_name = azure_resource_group\n",
                "configuration_profile = 'aks-dev-test'\n",
                "configuration_folder = 'mssql-bdc-configuration'\n",
                "print(f'Azure subscription: {azure_subscription_id}')\n",
                "print(f'Azure VM size: {azure_vm_size}')\n",
                "print(f'Azure VM count: {str(azure_vm_count)}')\n",
                "print(f'Azure region: {azure_region}')\n",
                "print(f'Azure resource group: {azure_resource_group}')\n",
                "print(f'AKS cluster name: {aks_cluster_name}')\n",
                "print(f'SQL Server big data cluster name: {mssql_cluster_name}')\n",
                "print(f'SQL Server big data cluster controller user name: {mssql_controller_username}')\n",
                "print(f'Deployment configuration profile: {configuration_profile}')\n",
                "print(f'Deployment configuration: {configuration_folder}')"
            ],
            "metadata": {
                "azdata_cell_guid": "106e7bb0-7d0b-4298-bdaa-6a7d70cca79b"
            },
            "outputs": [
                {
                    "output_type": "stream",
                    "name": "stdout",
                    "text": "Azure subscription: b7e65cb3-9829-44ea-9a90-6250cc442b3b\nAzure VM size: Standard_B8ms\nAzure VM count: 3\nAzure region: southafricanorth\nAzure resource group: rg-sqlbdc\nAKS cluster name: kubesqlbdc-cluster\nSQL Server big data cluster name: sqlbdc-cluster\nSQL Server big data cluster controller user name: admin\nDeployment configuration profile: aks-dev-test\nDeployment configuration: mssql-bdc-configuration\n"
                }
            ],
            "execution_count": 4
        },
        {
            "cell_type": "markdown",
            "source": [
                "### **Login to Azure**\n",
                "\n",
                "This will open a web browser window to enable credentials to be entered. If this cells is hanging forever, it might be because your Web browser windows is waiting for you to enter your Azure credentials!\n",
                ""
            ],
            "metadata": {
                "azdata_cell_guid": "e3e095fc-1338-4021-a9e9-f17eedb2b43d"
            }
        },
        {
            "cell_type": "code",
            "source": [
                "cmd = f'az login'\n",
                "run_command()"
            ],
            "metadata": {
                "azdata_cell_guid": "631d948b-95bf-4953-9c91-264d3b637f5b"
            },
            "outputs": [
                {
                    "output_type": "stream",
                    "name": "stdout",
                    "text": "Executing: az login\n"
                },
                {
                    "output_type": "stream",
                    "name": "stdout",
                    "text": "[\n  {\n    \"cloudName\": \"AzureCloud\",\n    \"id\": \"a16fbc6b-dc1f-43f7-a30d-3ad9c3760594\",\n    \"isDefault\": false,\n    \"name\": \"Visual Studio Premium with MSDN\",\n    \"state\": \"Enabled\",\n    \"tenantId\": \"6778d36c-50b7-4320-8d62-6a5091d6e2e7\",\n    \"user\": {\n      \"name\": \"niels.it.berglund@gmail.com\",\n      \"type\": \"user\"\n    }\n  },\n  {\n    \"cloudName\": \"AzureCloud\",\n    \"id\": \"b7e65cb3-9829-44ea-9a90-6250cc442b3b\",\n    \"isDefault\": true,\n    \"name\": \"Microsoft Azure Sponsorship\",\n    \"state\": \"Enabled\",\n    \"tenantId\": \"6778d36c-50b7-4320-8d62-6a5091d6e2e7\",\n    \"user\": {\n      \"name\": \"niels.it.berglund@gmail.com\",\n      \"type\": \"user\"\n    }\n  },\n  {\n    \"cloudName\": \"AzureCloud\",\n    \"id\": \"4744bfbf-f324-4142-ac99-65acc840ad8d\",\n    \"isDefault\": false,\n    \"name\": \"Enterprise Dev/Test\",\n    \"state\": \"Enabled\",\n    \"tenantId\": \"e64b32d9-f28f-4a39-958e-b3938a47f0a9\",\n    \"user\": {\n      \"name\": \"niels.it.berglund@gmail.com\",\n      \"type\": \"user\"\n    }\n  }\n]\nSuccessfully executed: az login\n"
                },
                {
                    "output_type": "stream",
                    "name": "stderr",
                    "text": "WARNING: Note, we have launched a browser for you to login. For old experience with device code, use \"az login --use-device-code\"\nWARNING: You have logged in. Now let us find all the subscriptions to which you have access...\n"
                }
            ],
            "execution_count": 5
        },
        {
            "cell_type": "markdown",
            "source": [
                "\n",
                "### **Set active Azure subscription**"
            ],
            "metadata": {
                "azdata_cell_guid": "f4f41db9-782f-44eb-9502-2c8d172c974f"
            }
        },
        {
            "cell_type": "code",
            "source": [
                "if azure_subscription_id != \"\":\n",
                "    cmd = f'az account set --subscription {azure_subscription_id}'\n",
                "    run_command()\n",
                "else:\n",
                "    print('Using the default Azure subscription', {azure_subscription_id})\n",
                "cmd = f'az account show'\n",
                "run_command()"
            ],
            "metadata": {
                "azdata_cell_guid": "a4358982-c5ec-4068-baab-5826cbc795c6"
            },
            "outputs": [
                {
                    "output_type": "stream",
                    "name": "stdout",
                    "text": "Executing: az account set --subscription b7e65cb3-9829-44ea-9a90-6250cc442b3b\n"
                },
                {
                    "output_type": "stream",
                    "name": "stdout",
                    "text": "Successfully executed: az account set --subscription b7e65cb3-9829-44ea-9a90-6250cc442b3b\nExecuting: az account show\n"
                },
                {
                    "output_type": "stream",
                    "name": "stdout",
                    "text": "{\n  \"environmentName\": \"AzureCloud\",\n  \"id\": \"b7e65cb3-9829-44ea-9a90-6250cc442b3b\",\n  \"isDefault\": true,\n  \"name\": \"Microsoft Azure Sponsorship\",\n  \"state\": \"Enabled\",\n  \"tenantId\": \"6778d36c-50b7-4320-8d62-6a5091d6e2e7\",\n  \"user\": {\n    \"name\": \"niels.it.berglund@gmail.com\",\n    \"type\": \"user\"\n  }\n}\nSuccessfully executed: az account show\n"
                }
            ],
            "execution_count": 6
        },
        {
            "cell_type": "markdown",
            "source": [
                "### **Create Azure resource group**"
            ],
            "metadata": {
                "azdata_cell_guid": "afcce143-0285-4d60-8195-b6dcdfa101da"
            }
        },
        {
            "cell_type": "code",
            "source": [
                "cmd = f'az group create --name {azure_resource_group} --location {azure_region}'\n",
                "run_command()"
            ],
            "metadata": {
                "azdata_cell_guid": "2b9f84f4-3fa7-4520-a66d-18a3a505d8e8"
            },
            "outputs": [
                {
                    "output_type": "stream",
                    "name": "stdout",
                    "text": "Executing: az group create --name rg-sqlbdc --location southafricanorth\n"
                },
                {
                    "output_type": "stream",
                    "name": "stdout",
                    "text": "{\n  \"id\": \"/subscriptions/b7e65cb3-9829-44ea-9a90-6250cc442b3b/resourceGroups/rg-sqlbdc\",\n  \"location\": \"southafricanorth\",\n  \"managedBy\": null,\n  \"name\": \"rg-sqlbdc\",\n  \"properties\": {\n    \"provisioningState\": \"Succeeded\"\n  },\n  \"tags\": null,\n  \"type\": null\n}\nSuccessfully executed: az group create --name rg-sqlbdc --location southafricanorth\n"
                }
            ],
            "execution_count": 7
        },
        {
            "cell_type": "markdown",
            "source": [
                "### **Create AKS cluster**"
            ],
            "metadata": {
                "azdata_cell_guid": "7d276756-9d0e-4bc2-9b83-2f6fca64e7fc"
            }
        },
        {
            "cell_type": "code",
            "source": [
                "cmd = f'az aks create --name {aks_cluster_name} --resource-group {azure_resource_group} --generate-ssh-keys --node-vm-size {azure_vm_size} --node-count {azure_vm_count}' \n",
                "run_command()"
            ],
            "metadata": {
                "azdata_cell_guid": "c8badbd8-2b05-40a3-ba1d-53534ac8043b"
            },
            "outputs": [
                {
                    "output_type": "stream",
                    "name": "stdout",
                    "text": "Executing: az aks create --name kubesqlbdc-cluster --resource-group rg-sqlbdc --generate-ssh-keys --node-vm-size Standard_B8ms --node-count 3\n"
                },
                {
                    "output_type": "stream",
                    "name": "stdout",
                    "text": "{\n  \"aadProfile\": null,\n  \"addonProfiles\": null,\n  \"agentPoolProfiles\": [\n    {\n      \"availabilityZones\": null,\n      \"count\": 3,\n      \"enableAutoScaling\": null,\n      \"maxCount\": null,\n      \"maxPods\": 110,\n      \"minCount\": null,\n      \"name\": \"nodepool1\",\n      \"orchestratorVersion\": \"1.13.10\",\n      \"osDiskSizeGb\": 100,\n      \"osType\": \"Linux\",\n      \"provisioningState\": \"Succeeded\",\n      \"type\": \"AvailabilitySet\",\n      \"vmSize\": \"Standard_B8ms\",\n      \"vnetSubnetId\": null\n    }\n  ],\n  \"apiServerAuthorizedIpRanges\": null,\n  \"dnsPrefix\": \"kubesqlbdc-rg-sqlbdc-b7e65c\",\n  \"enablePodSecurityPolicy\": null,\n  \"enableRbac\": true,\n  \"fqdn\": \"kubesqlbdc-rg-sqlbdc-b7e65c-1c563f65.hcp.southafricanorth.azmk8s.io\",\n  \"id\": \"/subscriptions/b7e65cb3-9829-44ea-9a90-6250cc442b3b/resourcegroups/rg-sqlbdc/providers/Microsoft.ContainerService/managedClusters/kubesqlbdc-cluster\",\n  \"identity\": null,\n  \"kubernetesVersion\": \"1.13.10\",\n  \"linuxProfile\": {\n    \"adminUsername\": \"azureuser\",\n    \"ssh\": {\n      \"publicKeys\": [\n        {\n          \"keyData\": \"ssh-rsa AAAAB3NzaC1yc2EAAAADAQABAAABAQC3zM228+PSGqIeX6w6UEFuFKZaqfjEjdU6sRS9aTCQxc/kvG0BB/qIByWlYyYdb4iCeHZuGZ6DU5w2BUR7KRp0jMGQOFqI7rxEOdwkGpGuh14ZDEB1sD3d8aBqqO2XznZkEObyBebYIl+jo/kk0tV2eOhj38880YnrMQ/0AK3+xL7iXwpxv68zjtVtLQzd9Go5dFa4CSFavxLaKEl5cuqnYGcTUHjPCChnpTOTAfmG/SGWRSK8RbXsJHfWoTIrkXG0ZvlC7eu14NH/UuCnwZSy7n8+aWoWIAEwfxSx0/3thkHY8alOTXfINeRYlYsdxerOJexhqekLPE80m8nI5DqJ\"\n        }\n      ]\n    }\n  },\n  \"location\": \"southafricanorth\",\n  \"maxAgentPools\": 1,\n  \"name\": \"kubesqlbdc-cluster\",\n  \"networkProfile\": {\n    \"dnsServiceIp\": \"10.0.0.10\",\n    \"dockerBridgeCidr\": \"172.17.0.1/16\",\n    \"loadBalancerSku\": \"basic\",\n    \"networkPlugin\": \"kubenet\",\n    \"networkPolicy\": null,\n    \"podCidr\": \"10.244.0.0/16\",\n    \"serviceCidr\": \"10.0.0.0/16\"\n  },\n  \"nodeResourceGroup\": \"MC_rg-sqlbdc_kubesqlbdc-cluster_southafricanorth\",\n  \"provisioningState\": \"Succeeded\",\n  \"resourceGroup\": \"rg-sqlbdc\",\n  \"servicePrincipalProfile\": {\n    \"clientId\": \"9654f0b2-fa72-462a-945d-2544a3445e75\",\n    \"secret\": null\n  },\n  \"tags\": null,\n  \"type\": \"Microsoft.ContainerService/ManagedClusters\",\n  \"windowsProfile\": null\n}\nSuccessfully executed: az aks create --name kubesqlbdc-cluster --resource-group rg-sqlbdc --generate-ssh-keys --node-vm-size Standard_B8ms --node-count 3\n"
                }
            ],
            "execution_count": 8
        },
        {
            "cell_type": "markdown",
            "source": [
                "### **Set the new AKS cluster as current context**"
            ],
            "metadata": {
                "azdata_cell_guid": "25133b01-0a35-4dd6-87ce-d0c981fa962c"
            }
        },
        {
            "cell_type": "code",
            "source": [
                "cmd = f'az aks get-credentials --resource-group {azure_resource_group} --name {aks_cluster_name} --admin --overwrite-existing'\r\n",
                "run_command()"
            ],
            "metadata": {
                "azdata_cell_guid": "fd883c54-fbce-4d33-a8ff-d97d10ed9f9a"
            },
            "outputs": [
                {
                    "output_type": "stream",
                    "name": "stdout",
                    "text": "Executing: az aks get-credentials --resource-group rg-sqlbdc --name kubesqlbdc-cluster --admin --overwrite-existing\n"
                },
                {
                    "output_type": "stream",
                    "name": "stdout",
                    "text": "Merged \"kubesqlbdc-cluster-admin\" as current context in C:\\Users\\niels\\.kube\\config\nSuccessfully executed: az aks get-credentials --resource-group rg-sqlbdc --name kubesqlbdc-cluster --admin --overwrite-existing\n"
                }
            ],
            "execution_count": 9
        },
        {
            "cell_type": "markdown",
            "source": [
                "### **Create a deployment configuration file**"
            ],
            "metadata": {
                "azdata_cell_guid": "78739836-a487-45da-941b-5c9dbf20a275"
            }
        },
        {
            "cell_type": "code",
            "source": [
                "os.environ[\"ACCEPT_EULA\"] = 'yes'\n",
                "cmd = f'azdata bdc config init --source {configuration_profile} --target {configuration_folder} --force'\n",
                "run_command()\n",
                "cmd = f'azdata bdc config replace -c {configuration_folder}/bdc.json -j metadata.name={mssql_cluster_name}'\n",
                "run_command()"
            ],
            "metadata": {
                "azdata_cell_guid": "4c994a7b-89d1-4841-959f-e269e51ddc6b"
            },
            "outputs": [
                {
                    "output_type": "stream",
                    "name": "stdout",
                    "text": "Executing: azdata bdc config init --source aks-dev-test --target mssql-bdc-configuration --force\n"
                },
                {
                    "output_type": "stream",
                    "name": "stdout",
                    "text": "mssql-bdc-configuration\\bdc.json created\nmssql-bdc-configuration\\control.json created\nSuccessfully executed: azdata bdc config init --source aks-dev-test --target mssql-bdc-configuration --force\nExecuting: azdata bdc config replace -c mssql-bdc-configuration/bdc.json -j metadata.name=sqlbdc-cluster\n"
                },
                {
                    "output_type": "stream",
                    "name": "stdout",
                    "text": "Successfully executed: azdata bdc config replace -c mssql-bdc-configuration/bdc.json -j metadata.name=sqlbdc-cluster\n"
                }
            ],
            "execution_count": 10
        },
        {
            "cell_type": "markdown",
            "source": [
                "### **Create SQL Server 2019 big data cluster**"
            ],
            "metadata": {
                "azdata_cell_guid": "567ea34f-3ba8-4474-ab4b-fa9366455e28"
            }
        },
        {
            "cell_type": "code",
            "source": [
                "print (f'Creating SQL Server 2019 big data cluster: {mssql_cluster_name} using configuration {configuration_folder}')\n",
                "os.environ[\"CONTROLLER_USERNAME\"] = mssql_controller_username\n",
                "os.environ[\"CONTROLLER_PASSWORD\"] = mssql_password\n",
                "os.environ[\"MSSQL_SA_PASSWORD\"] = mssql_password\n",
                "os.environ[\"KNOX_PASSWORD\"] = mssql_password\n",
                "cmd = f'azdata bdc create -c {configuration_folder}'\n",
                "run_command()"
            ],
            "metadata": {
                "azdata_cell_guid": "80e58858-958a-4d9f-b370-d19edd86de10"
            },
            "outputs": [
                {
                    "output_type": "stream",
                    "name": "stdout",
                    "text": "Creating SQL Server 2019 big data cluster: sqlbdc-cluster using configuration mssql-bdc-configuration\nExecuting: azdata bdc create -c mssql-bdc-configuration\n"
                },
                {
                    "output_type": "stream",
                    "name": "stdout",
                    "text": "The privacy statement can be viewed at:\nhttps://go.microsoft.com/fwlink/?LinkId=853010\n\nThe license terms for SQL Server Big Data Cluster can be viewed at:\nhttps://go.microsoft.com/fwlink/?LinkId=2002534\n\n\nCluster deployment documentation can be viewed at:\nhttps://aka.ms/bdc-deploy\n\nNOTE: Cluster creation can take a significant amount of time depending on\nconfiguration, network speed, and the number of nodes in the cluster.\n\nStarting cluster deployment.\nWaiting for cluster controller to start.\nWaiting for cluster controller to start.\nWaiting for cluster controller to start.\nWaiting for cluster controller to start.\nWaiting for cluster controller to start.\nWaiting for cluster controller to start.\nWaiting for cluster controller to start.\nWaiting for cluster controller to start.\nWaiting for cluster controller to start.\nWaiting for cluster controller to start.\nWaiting for cluster controller to start.\nWaiting for cluster controller to start.\nCluster controller endpoint is available at 102.133.233.185:30080.\nWaiting for control plane to be ready after 5 minutes.\nCluster control plane is ready. \nData pool is ready. \nMaster pool is ready. \nCompute pool is ready. \nStorage pool is ready. \nCluster deployed successfully.\nSuccessfully executed: azdata bdc create -c mssql-bdc-configuration\n"
                }
            ],
            "execution_count": 11
        },
        {
            "cell_type": "markdown",
            "source": [
                "### **Login to SQL Server 2019 big data cluster**"
            ],
            "metadata": {
                "azdata_cell_guid": "e1400dca-1db5-4f72-a410-e5cadb3f3275"
            }
        },
        {
            "cell_type": "code",
            "source": [
                "cmd = f'azdata login --cluster-name {mssql_cluster_name}'\n",
                "run_command()"
            ],
            "metadata": {
                "azdata_cell_guid": "e30e9671-b34e-489c-860b-6e50c94bfe6a"
            },
            "outputs": [
                {
                    "output_type": "stream",
                    "name": "stdout",
                    "text": "Executing: azdata login --cluster-name sqlbdc-cluster\n"
                },
                {
                    "output_type": "stream",
                    "name": "stdout",
                    "text": "Logged in successfully to `https://102.133.233.185:30080`\nSuccessfully executed: azdata login --cluster-name sqlbdc-cluster\n"
                }
            ],
            "execution_count": 12
        },
        {
            "cell_type": "markdown",
            "source": [
                "### **Show SQL Server 2019 big data cluster endpoints**"
            ],
            "metadata": {
                "azdata_cell_guid": "84cd7a61-6ca3-4cd5-85f0-1a54df46145b"
            }
        },
        {
            "cell_type": "code",
            "source": [
                "from IPython.display import *\n",
                "pandas.set_option('display.max_colwidth', -1)\n",
                "cmd = f'azdata bdc endpoint list'\n",
                "cmdOutput = !{cmd}\n",
                "endpoints = json.loads(''.join(cmdOutput))\n",
                "endpointsDataFrame = pandas.DataFrame(endpoints)\n",
                "endpointsDataFrame.columns = [' '.join(word[0].upper() + word[1:] for word in columnName.split()) for columnName in endpoints[0].keys()]\n",
                "display(HTML(endpointsDataFrame.to_html(index=False, render_links=True)))"
            ],
            "metadata": {
                "azdata_cell_guid": "1bb3ec37-c90f-463b-ac6e-b5159eac0fec"
            },
            "outputs": [
                {
                    "output_type": "display_data",
                    "data": {
                        "text/plain": "<IPython.core.display.HTML object>",
                        "text/html": "<table border=\"1\" class=\"dataframe\">\n  <thead>\n    <tr style=\"text-align: right;\">\n      <th>Description</th>\n      <th>Endpoint</th>\n      <th>Name</th>\n      <th>Protocol</th>\n    </tr>\n  </thead>\n  <tbody>\n    <tr>\n      <td>Gateway to access HDFS files, Spark</td>\n      <td><a href=\"https://102.133.228.36:30443\" target=\"_blank\">https://102.133.228.36:30443</a></td>\n      <td>gateway</td>\n      <td>https</td>\n    </tr>\n    <tr>\n      <td>Spark Jobs Management and Monitoring Dashboard</td>\n      <td><a href=\"https://102.133.228.36:30443/gateway/default/sparkhistory\" target=\"_blank\">https://102.133.228.36:30443/gateway/default/sparkhistory</a></td>\n      <td>spark-history</td>\n      <td>https</td>\n    </tr>\n    <tr>\n      <td>Spark Diagnostics and Monitoring Dashboard</td>\n      <td><a href=\"https://102.133.228.36:30443/gateway/default/yarn\" target=\"_blank\">https://102.133.228.36:30443/gateway/default/yarn</a></td>\n      <td>yarn-ui</td>\n      <td>https</td>\n    </tr>\n    <tr>\n      <td>Application Proxy</td>\n      <td><a href=\"https://102.133.239.225:30778\" target=\"_blank\">https://102.133.239.225:30778</a></td>\n      <td>app-proxy</td>\n      <td>https</td>\n    </tr>\n    <tr>\n      <td>Management Proxy</td>\n      <td><a href=\"https://102.133.228.59:30777\" target=\"_blank\">https://102.133.228.59:30777</a></td>\n      <td>mgmtproxy</td>\n      <td>https</td>\n    </tr>\n    <tr>\n      <td>Log Search Dashboard</td>\n      <td><a href=\"https://102.133.228.59:30777/kibana\" target=\"_blank\">https://102.133.228.59:30777/kibana</a></td>\n      <td>logsui</td>\n      <td>https</td>\n    </tr>\n    <tr>\n      <td>Metrics Dashboard</td>\n      <td><a href=\"https://102.133.228.59:30777/grafana\" target=\"_blank\">https://102.133.228.59:30777/grafana</a></td>\n      <td>metricsui</td>\n      <td>https</td>\n    </tr>\n    <tr>\n      <td>Cluster Management Service</td>\n      <td><a href=\"https://102.133.233.185:30080\" target=\"_blank\">https://102.133.233.185:30080</a></td>\n      <td>controller</td>\n      <td>https</td>\n    </tr>\n    <tr>\n      <td>SQL Server Master Instance Front-End</td>\n      <td>102.133.235.103,31433</td>\n      <td>sql-server-master</td>\n      <td>tds</td>\n    </tr>\n    <tr>\n      <td>HDFS File System Proxy</td>\n      <td><a href=\"https://102.133.228.36:30443/gateway/default/webhdfs/v1\" target=\"_blank\">https://102.133.228.36:30443/gateway/default/webhdfs/v1</a></td>\n      <td>webhdfs</td>\n      <td>https</td>\n    </tr>\n    <tr>\n      <td>Proxy for running Spark statements, jobs, applications</td>\n      <td><a href=\"https://102.133.228.36:30443/gateway/default/livy/v1\" target=\"_blank\">https://102.133.228.36:30443/gateway/default/livy/v1</a></td>\n      <td>livy</td>\n      <td>https</td>\n    </tr>\n  </tbody>\n</table>"
                    },
                    "metadata": {}
                }
            ],
            "execution_count": 13
        },
        {
            "cell_type": "markdown",
            "source": [
                "### **Connect to master SQL Server instance in Azure Data Studio**\r\n",
                "Click the link below to connect to the master SQL Server instance of the SQL Server 2019 big data cluster."
            ],
            "metadata": {
                "azdata_cell_guid": "58115980-20cf-466b-bdb9-12940a6b2b26"
            }
        },
        {
            "cell_type": "code",
            "source": [
                "sqlEndpoints = [x for x in endpoints if x['name'] == 'sql-server-master']\r\n",
                "if sqlEndpoints and len(sqlEndpoints) == 1:\r\n",
                "    connectionParameter = '{\"serverName\":\"' + sqlEndpoints[0]['endpoint'] + '\",\"providerName\":\"MSSQL\",\"authenticationType\":\"SqlLogin\",\"userName\":\"sa\",\"password\":' + json.dumps(mssql_password) + '}'\r\n",
                "    display(HTML('<br/><a href=\"command:azdata.connect?' + html.escape(connectionParameter)+'\"><font size=\"3\">Click here to connect to master SQL Server instance</font></a><br/>'))\r\n",
                "else:\r\n",
                "    sys.exit('Could not find the master SQL Server instance endpoint.')"
            ],
            "metadata": {
                "azdata_cell_guid": "965898b3-6de6-4a56-ad1c-c6d2398d45fa"
            },
            "outputs": [
                {
                    "traceback": [
                        "\u001b[1;31m---------------------------------------------------------------------------\u001b[0m",
                        "\u001b[1;31mNameError\u001b[0m                                 Traceback (most recent call last)",
                        "\u001b[1;32m<ipython-input-1-986f348b2fdc>\u001b[0m in \u001b[0;36m<module>\u001b[1;34m()\u001b[0m\n\u001b[1;32m----> 1\u001b[1;33m \u001b[0msqlEndpoints\u001b[0m \u001b[1;33m=\u001b[0m \u001b[1;33m[\u001b[0m\u001b[0mx\u001b[0m \u001b[1;32mfor\u001b[0m \u001b[0mx\u001b[0m \u001b[1;32min\u001b[0m \u001b[0mendpoints\u001b[0m \u001b[1;32mif\u001b[0m \u001b[0mx\u001b[0m\u001b[1;33m[\u001b[0m\u001b[1;34m'name'\u001b[0m\u001b[1;33m]\u001b[0m \u001b[1;33m==\u001b[0m \u001b[1;34m'sql-server-master'\u001b[0m\u001b[1;33m]\u001b[0m\u001b[1;33m\u001b[0m\u001b[1;33m\u001b[0m\u001b[0m\n\u001b[0m\u001b[0;32m      2\u001b[0m \u001b[1;32mif\u001b[0m \u001b[0msqlEndpoints\u001b[0m \u001b[1;32mand\u001b[0m \u001b[0mlen\u001b[0m\u001b[1;33m(\u001b[0m\u001b[0msqlEndpoints\u001b[0m\u001b[1;33m)\u001b[0m \u001b[1;33m==\u001b[0m \u001b[1;36m1\u001b[0m\u001b[1;33m:\u001b[0m\u001b[1;33m\u001b[0m\u001b[1;33m\u001b[0m\u001b[0m\n\u001b[0;32m      3\u001b[0m     \u001b[0mconnectionParameter\u001b[0m \u001b[1;33m=\u001b[0m \u001b[1;34m'{\"serverName\":\"'\u001b[0m \u001b[1;33m+\u001b[0m \u001b[0msqlEndpoints\u001b[0m\u001b[1;33m[\u001b[0m\u001b[1;36m0\u001b[0m\u001b[1;33m]\u001b[0m\u001b[1;33m[\u001b[0m\u001b[1;34m'endpoint'\u001b[0m\u001b[1;33m]\u001b[0m \u001b[1;33m+\u001b[0m \u001b[1;34m'\",\"providerName\":\"MSSQL\",\"authenticationType\":\"SqlLogin\",\"userName\":\"sa\",\"password\":'\u001b[0m \u001b[1;33m+\u001b[0m \u001b[0mjson\u001b[0m\u001b[1;33m.\u001b[0m\u001b[0mdumps\u001b[0m\u001b[1;33m(\u001b[0m\u001b[0mmssql_password\u001b[0m\u001b[1;33m)\u001b[0m \u001b[1;33m+\u001b[0m \u001b[1;34m'}'\u001b[0m\u001b[1;33m\u001b[0m\u001b[1;33m\u001b[0m\u001b[0m\n\u001b[0;32m      4\u001b[0m     \u001b[0mdisplay\u001b[0m\u001b[1;33m(\u001b[0m\u001b[0mHTML\u001b[0m\u001b[1;33m(\u001b[0m\u001b[1;34m'<br/><a href=\"command:azdata.connect?'\u001b[0m \u001b[1;33m+\u001b[0m \u001b[0mhtml\u001b[0m\u001b[1;33m.\u001b[0m\u001b[0mescape\u001b[0m\u001b[1;33m(\u001b[0m\u001b[0mconnectionParameter\u001b[0m\u001b[1;33m)\u001b[0m\u001b[1;33m+\u001b[0m\u001b[1;34m'\"><font size=\"3\">Click here to connect to master SQL Server instance</font></a><br/>'\u001b[0m\u001b[1;33m)\u001b[0m\u001b[1;33m)\u001b[0m\u001b[1;33m\u001b[0m\u001b[1;33m\u001b[0m\u001b[0m\n\u001b[0;32m      5\u001b[0m \u001b[1;32melse\u001b[0m\u001b[1;33m:\u001b[0m\u001b[1;33m\u001b[0m\u001b[1;33m\u001b[0m\u001b[0m\n",
                        "\u001b[1;31mNameError\u001b[0m: name 'endpoints' is not defined"
                    ],
                    "ename": "NameError",
                    "evalue": "name 'endpoints' is not defined",
                    "output_type": "error"
                }
            ],
            "execution_count": 1
        }
    ]
}