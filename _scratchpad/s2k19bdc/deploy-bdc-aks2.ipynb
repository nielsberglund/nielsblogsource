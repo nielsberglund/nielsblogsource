{
    "metadata": {
        "kernelspec": {
            "name": "python3",
            "display_name": "Python 3"
        },
        "language_info": {
            "name": "python",
            "version": "3.7.3",
            "mimetype": "text/x-python",
            "codemirror_mode": {
                "name": "ipython",
                "version": 3
            },
            "pygments_lexer": "ipython3",
            "nbconvert_exporter": "python",
            "file_extension": ".py"
        }
    },
    "nbformat_minor": 2,
    "nbformat": 4,
    "cells": [
        {
            "cell_type": "markdown",
            "source": [
                "![Microsoft](https://raw.githubusercontent.com/microsoft/azuredatastudio/master/src/sql/media/microsoft-small-logo.png)\n",
                " \n",
                "## Create Azure Kubernetes Service cluster and deploy SQL Server 2019 CTP 3.2 big data cluster\n",
                " \n",
                "This notebook walks through the process of creating a new Azure Kubernetes Service cluster first, and then deploys a <a href=\"https://docs.microsoft.com/sql/big-data-cluster/big-data-cluster-overview?view=sqlallproducts-allversions\">SQL Server 2019 CTP 3.2 big data cluster</a> on the newly created AKS cluster.\n",
                " \n",
                "* Follow the instructions in the **Prerequisites** cell to install the tools if not already installed.\n",
                "* The **Required information** cell will prompt you for a password that will be used to access the cluster controller, SQL Server, and Knox.\n",
                "* The values in the **Azure settings** and **Default settings** cell can be changed as appropriate.\n",
                "\n",
                "<span style=\"color:red\"><font size=\"3\">Please press the \"Run Cells\" button to run the notebook</font></span>"
            ],
            "metadata": {}
        },
        {
            "cell_type": "markdown",
            "source": [
                "### **Prerequisites**\n",
                "Ensure the following tools are installed and added to PATH before proceeding.\n",
                "\n",
                "|Tools|Description|Installation|\n",
                "|---|---|---|\n",
                "|Azure CLI |Command-line tool for managing Azure services. Used to create AKS cluster | [Installation](https://docs.microsoft.com/cli/azure/install-azure-cli?view=azure-cli-latest) |\n",
                "|kubectl | Command-line tool for monitoring the underlying Kuberentes cluster | [Installation](https://kubernetes.io/docs/tasks/tools/install-kubectl/#install-kubectl-binary-using-native-package-management) |\n",
                "|azdata | Command-line tool for installing and managing a big data cluster |[Installation](https://docs.microsoft.com/en-us/sql/big-data-cluster/deploy-install-azdata?view=sqlallproducts-allversions) |"
            ],
            "metadata": {}
        },
        {
            "cell_type": "markdown",
            "source": "### **Check dependencies**",
            "metadata": {}
        },
        {
            "cell_type": "code",
            "source": [
                "import pandas,sys,os,getpass,time,json,html\r\n",
                "pandas_version = pandas.__version__.split('.')\r\n",
                "pandas_major = int(pandas_version[0])\r\n",
                "pandas_minor = int(pandas_version[1])\r\n",
                "pandas_patch = int(pandas_version[2])\r\n",
                "if not (pandas_major > 0 or (pandas_major == 0 and pandas_minor > 24) or (pandas_major == 0 and pandas_minor == 24 and pandas_patch >= 2)):\r\n",
                "    sys.exit('Please upgrade the Notebook dependency before you can proceed, you can do it by running the \"Reinstall Notebook dependencies\" command in Azure Data Studio.')\r\n",
                "\r\n",
                "def run_command():\r\n",
                "    print(\"Executing: \" + cmd)\r\n",
                "    !{cmd}\r\n",
                "    if _exit_code != 0:\r\n",
                "        sys.exit(f'Command execution failed with exit code: {str(_exit_code)}.\\n\\t{cmd}\\n')\r\n",
                "    print(f'Successfully executed: {cmd}')\r\n",
                "\r\n",
                "cmd = 'az --version'\r\n",
                "run_command()\r\n",
                "cmd = 'kubectl version --client=true'\r\n",
                "run_command()\r\n",
                "cmd = 'azdata --version'\r\n",
                "run_command()"
            ],
            "metadata": {},
            "outputs": [
                {
                    "name": "stdout",
                    "text": "Executing: az --version\n",
                    "output_type": "stream"
                },
                {
                    "name": "stdout",
                    "text": "azure-cli                         2.0.68 *\n\ncommand-modules-nspkg               2.0.2 *\ncore                              2.0.68 *\nnspkg                              3.0.4\ntelemetry                          1.0.3\n\nPython location 'C:\\Program Files (x86)\\Microsoft SDKs\\Azure\\CLI2\\python.exe'\nExtensions directory 'C:\\Users\\niels\\.azure\\cliextensions'\n\nPython (Windows) 3.6.6 (v3.6.6:4cf1f54eb7, Jun 27 2018, 02:47:15) [MSC v.1900 32 bit (Intel)]\n\nLegal docs and information: aka.ms/AzureCliLegal\n\n\nSuccessfully executed: az --version\nExecuting: kubectl version --client=true\n",
                    "output_type": "stream"
                },
                {
                    "name": "stderr",
                    "text": "WARNING: You have 3 updates available. Consider updating your CLI installation.\n",
                    "output_type": "stream"
                },
                {
                    "name": "stdout",
                    "text": "Client Version: version.Info{Major:\"1\", Minor:\"14\", GitVersion:\"v1.14.3\", GitCommit:\"5e53fd6bc17c0dec8434817e69b04a25d8ae0ff0\", GitTreeState:\"clean\", BuildDate:\"2019-06-06T01:44:30Z\", GoVersion:\"go1.12.5\", Compiler:\"gc\", Platform:\"windows/amd64\"}\nSuccessfully executed: kubectl version --client=true\nExecuting: azdata --version\n",
                    "output_type": "stream"
                },
                {
                    "name": "stdout",
                    "text": "15.0.1800\n\nPython (Windows) 3.7.3 (v3.7.3:ef4ec6ed12, Mar 25 2019, 22:22:05) [MSC v.1916 64 bit (AMD64)]\n\nPython location 'c:\\python37\\python.exe'\n\nSuccessfully executed: azdata --version\n",
                    "output_type": "stream"
                }
            ],
            "execution_count": 1
        },
        {
            "cell_type": "markdown",
            "source": "### **Required information**",
            "metadata": {}
        },
        {
            "cell_type": "code",
            "source": [
                "env_var_flag = \"AZDATA_NB_VAR_BDC_CONTROLLER_PASSWORD\" in os.environ\n",
                "if env_var_flag:\n",
                "    mssql_password = os.environ[\"AZDATA_NB_VAR_BDC_CONTROLLER_PASSWORD\"]\n",
                "else: \n",
                "    mssql_password = getpass.getpass(prompt = 'SQL Server 2019 big data cluster controller password')\n",
                "    if mssql_password == \"\":\n",
                "        sys.exit(f'Password is required.')\n",
                "    confirm_password = getpass.getpass(prompt = 'Confirm password')\n",
                "    if mssql_password != confirm_password:\n",
                "        sys.exit(f'Passwords do not match.')\n",
                "print('Password accepted, you can also use the same password to access Knox and SQL Server.')"
            ],
            "metadata": {},
            "outputs": [
                {
                    "name": "stdout",
                    "text": "Password accepted, you can also use the same password to access Knox and SQL Server.\n",
                    "output_type": "stream"
                }
            ],
            "execution_count": 3
        },
        {
            "cell_type": "markdown",
            "source": [
                "### **Azure settings**\n",
                "*Subscription ID*: visit <a href=\"https://portal.azure.com/#blade/Microsoft_Azure_Billing/SubscriptionsBlade\">here</a> to find out the subscriptions you can use, if you leave it unspecified, the default subscription will be used.\n",
                "\n",
                "*VM Size*: visit <a href=\"https://docs.microsoft.com/en-us/azure/virtual-machines/linux/sizes\">here</a> to find out the available VM sizes you could use. \n",
                " \n",
                "*Region*: visit <a href=\"https://azure.microsoft.com/en-us/global-infrastructure/services/?products=kubernetes-service\">here</a> to find out the Azure regions where the Azure Kubernettes Service is available."
            ],
            "metadata": {}
        },
        {
            "cell_type": "code",
            "source": [
                "if env_var_flag:\n",
                "    azure_subscription_id = os.environ[\"AZDATA_NB_VAR_BDC_AZURE_SUBSCRIPTION\"]\n",
                "    azure_vm_size = os.environ[\"AZDATA_NB_VAR_BDC_AZURE_VM_SIZE\"]\n",
                "    azure_region = os.environ[\"AZDATA_NB_VAR_BDC_AZURE_REGION\"]\n",
                "    azure_vm_count = int(os.environ[\"AZDATA_NB_VAR_BDC_VM_COUNT\"])\n",
                "else:\n",
                "    azure_subscription_id = \"\"\n",
                "    azure_vm_size = \"Standard_E4s_v3\"\n",
                "    azure_region = \"eastus\"\n",
                "    azure_vm_count = int(5)"
            ],
            "metadata": {},
            "outputs": [],
            "execution_count": 5
        },
        {
            "cell_type": "markdown",
            "source": "### **Default settings**",
            "metadata": {}
        },
        {
            "cell_type": "code",
            "source": [
                "if env_var_flag:\n",
                "    mssql_cluster_name = os.environ[\"AZDATA_NB_VAR_BDC_NAME\"]\n",
                "    mssql_controller_username = os.environ[\"AZDATA_NB_VAR_BDC_CONTROLLER_USERNAME\"]\n",
                "    azure_resource_group = os.environ[\"AZDATA_NB_VAR_BDC_RESOURCEGROUP_NAME\"]\n",
                "    aks_cluster_name = os.environ[\"AZDATA_NB_VAR_BDC_AKS_NAME\"]\n",
                "else:\n",
                "    mssql_cluster_name = 'mssql-cluster'\n",
                "    mssql_controller_username = 'admin'\n",
                "    azure_resource_group = mssql_cluster_name + '-' + time.strftime(\"%Y%m%d%H%M%S\", time.localtime())\n",
                "    aks_cluster_name = azure_resource_group\n",
                "configuration_profile = 'aks-dev-test'\n",
                "configuration_folder = 'mssql-bdc-configuration'\n",
                "print(f'Azure subscription: {azure_subscription_id}')\n",
                "print(f'Azure VM size: {azure_vm_size}')\n",
                "print(f'Azure VM count: {str(azure_vm_count)}')\n",
                "print(f'Azure region: {azure_region}')\n",
                "print(f'Azure resource group: {azure_resource_group}')\n",
                "print(f'AKS cluster name: {aks_cluster_name}')\n",
                "print(f'SQL Server big data cluster name: {mssql_cluster_name}')\n",
                "print(f'SQL Server big data cluster controller user name: {mssql_controller_username}')\n",
                "print(f'Deployment configuration profile: {configuration_profile}')\n",
                "print(f'Deployment configuration: {configuration_folder}')"
            ],
            "metadata": {},
            "outputs": [
                {
                    "name": "stdout",
                    "text": "Azure subscription: b7e65cb3-9829-44ea-9a90-6250cc442b3b\nAzure VM size: Standard_B8ms\nAzure VM count: 3\nAzure region: southafricanorth\nAzure resource group: rg-sqlbdc\nAKS cluster name: kubesqlbdc-cluster\nSQL Server big data cluster name: sqlbdc-cluster\nSQL Server big data cluster controller user name: admin\nDeployment configuration profile: aks-dev-test\nDeployment configuration: mssql-bdc-configuration\n",
                    "output_type": "stream"
                }
            ],
            "execution_count": 6
        },
        {
            "cell_type": "markdown",
            "source": [
                "### **Login to Azure**\n",
                "\n",
                "This will open a web browser window to enable credentials to be entered. If this cells is hanging forever, it might be because your Web browser windows is waiting for you to enter your Azure credentials!\n",
                ""
            ],
            "metadata": {}
        },
        {
            "cell_type": "code",
            "source": [
                "cmd = f'az login'\n",
                "run_command()"
            ],
            "metadata": {},
            "outputs": [
                {
                    "name": "stdout",
                    "text": "Executing: az login\n",
                    "output_type": "stream"
                },
                {
                    "name": "stdout",
                    "text": "[\n  {\n    \"cloudName\": \"AzureCloud\",\n    \"id\": \"a16fbc6b-dc1f-43f7-a30d-3ad9c3760594\",\n    \"isDefault\": true,\n    \"name\": \"Visual Studio Premium with MSDN\",\n    \"state\": \"Enabled\",\n    \"tenantId\": \"6778d36c-50b7-4320-8d62-6a5091d6e2e7\",\n    \"user\": {\n      \"name\": \"niels.it.berglund@gmail.com\",\n      \"type\": \"user\"\n    }\n  },\n  {\n    \"cloudName\": \"AzureCloud\",\n    \"id\": \"b7e65cb3-9829-44ea-9a90-6250cc442b3b\",\n    \"isDefault\": false,\n    \"name\": \"Microsoft Azure Sponsorship\",\n    \"state\": \"Enabled\",\n    \"tenantId\": \"6778d36c-50b7-4320-8d62-6a5091d6e2e7\",\n    \"user\": {\n      \"name\": \"niels.it.berglund@gmail.com\",\n      \"type\": \"user\"\n    }\n  },\n  {\n    \"cloudName\": \"AzureCloud\",\n    \"id\": \"4744bfbf-f324-4142-ac99-65acc840ad8d\",\n    \"isDefault\": false,\n    \"name\": \"Enterprise Dev/Test\",\n    \"state\": \"Enabled\",\n    \"tenantId\": \"e64b32d9-f28f-4a39-958e-b3938a47f0a9\",\n    \"user\": {\n      \"name\": \"niels.it.berglund@gmail.com\",\n      \"type\": \"user\"\n    }\n  }\n]\nSuccessfully executed: az login\n",
                    "output_type": "stream"
                },
                {
                    "name": "stderr",
                    "text": "WARNING: Note, we have launched a browser for you to login. For old experience with device code, use \"az login --use-device-code\"\nWARNING: You have logged in. Now let us find all the subscriptions to which you have access...\n",
                    "output_type": "stream"
                }
            ],
            "execution_count": 7
        },
        {
            "cell_type": "markdown",
            "source": [
                "\n",
                "### **Set active Azure subscription**"
            ],
            "metadata": {}
        },
        {
            "cell_type": "code",
            "source": [
                "if azure_subscription_id != \"\":\n",
                "    cmd = f'az account set --subscription {azure_subscription_id}'\n",
                "    run_command()\n",
                "else:\n",
                "    print('Using the default Azure subscription', {azure_subscription_id})\n",
                "cmd = f'az account show'\n",
                "run_command()"
            ],
            "metadata": {},
            "outputs": [
                {
                    "name": "stdout",
                    "text": "Executing: az account set --subscription b7e65cb3-9829-44ea-9a90-6250cc442b3b\n",
                    "output_type": "stream"
                },
                {
                    "name": "stdout",
                    "text": "Successfully executed: az account set --subscription b7e65cb3-9829-44ea-9a90-6250cc442b3b\nExecuting: az account show\n",
                    "output_type": "stream"
                },
                {
                    "name": "stdout",
                    "text": "{\n  \"environmentName\": \"AzureCloud\",\n  \"id\": \"b7e65cb3-9829-44ea-9a90-6250cc442b3b\",\n  \"isDefault\": true,\n  \"name\": \"Microsoft Azure Sponsorship\",\n  \"state\": \"Enabled\",\n  \"tenantId\": \"6778d36c-50b7-4320-8d62-6a5091d6e2e7\",\n  \"user\": {\n    \"name\": \"niels.it.berglund@gmail.com\",\n    \"type\": \"user\"\n  }\n}\nSuccessfully executed: az account show\n",
                    "output_type": "stream"
                }
            ],
            "execution_count": 8
        },
        {
            "cell_type": "markdown",
            "source": "### **Create Azure resource group**",
            "metadata": {}
        },
        {
            "cell_type": "code",
            "source": [
                "cmd = f'az group create --name {azure_resource_group} --location {azure_region}'\n",
                "run_command()"
            ],
            "metadata": {},
            "outputs": [
                {
                    "name": "stdout",
                    "text": "Executing: az group create --name rg-sqlbdc --location southafricanorth\n",
                    "output_type": "stream"
                },
                {
                    "name": "stdout",
                    "text": "{\n  \"id\": \"/subscriptions/b7e65cb3-9829-44ea-9a90-6250cc442b3b/resourceGroups/rg-sqlbdc\",\n  \"location\": \"southafricanorth\",\n  \"managedBy\": null,\n  \"name\": \"rg-sqlbdc\",\n  \"properties\": {\n    \"provisioningState\": \"Succeeded\"\n  },\n  \"tags\": null,\n  \"type\": null\n}\nSuccessfully executed: az group create --name rg-sqlbdc --location southafricanorth\n",
                    "output_type": "stream"
                }
            ],
            "execution_count": 9
        },
        {
            "cell_type": "markdown",
            "source": "### **Create AKS cluster**",
            "metadata": {}
        },
        {
            "cell_type": "code",
            "source": [
                "cmd = f'az aks create --name {aks_cluster_name} --resource-group {azure_resource_group} --generate-ssh-keys --node-vm-size {azure_vm_size} --node-count {azure_vm_count}' \n",
                "run_command()"
            ],
            "metadata": {},
            "outputs": [
                {
                    "name": "stdout",
                    "text": "Executing: az aks create --name kubesqlbdc-cluster --resource-group rg-sqlbdc --generate-ssh-keys --node-vm-size Standard_B8ms --node-count 3\n",
                    "output_type": "stream"
                },
                {
                    "name": "stdout",
                    "text": "{\n  \"aadProfile\": null,\n  \"addonProfiles\": null,\n  \"agentPoolProfiles\": [\n    {\n      \"availabilityZones\": null,\n      \"count\": 3,\n      \"enableAutoScaling\": null,\n      \"maxCount\": null,\n      \"maxPods\": 110,\n      \"minCount\": null,\n      \"name\": \"nodepool1\",\n      \"orchestratorVersion\": \"1.12.8\",\n      \"osDiskSizeGb\": 100,\n      \"osType\": \"Linux\",\n      \"provisioningState\": \"Succeeded\",\n      \"type\": \"AvailabilitySet\",\n      \"vmSize\": \"Standard_B8ms\",\n      \"vnetSubnetId\": null\n    }\n  ],\n  \"apiServerAuthorizedIpRanges\": null,\n  \"dnsPrefix\": \"kubesqlbdc-rg-sqlbdc-b7e65c\",\n  \"enablePodSecurityPolicy\": null,\n  \"enableRbac\": true,\n  \"fqdn\": \"kubesqlbdc-rg-sqlbdc-b7e65c-44107f9c.hcp.southafricanorth.azmk8s.io\",\n  \"id\": \"/subscriptions/b7e65cb3-9829-44ea-9a90-6250cc442b3b/resourcegroups/rg-sqlbdc/providers/Microsoft.ContainerService/managedClusters/kubesqlbdc-cluster\",\n  \"identity\": null,\n  \"kubernetesVersion\": \"1.12.8\",\n  \"linuxProfile\": {\n    \"adminUsername\": \"azureuser\",\n    \"ssh\": {\n      \"publicKeys\": [\n        {\n          \"keyData\": \"ssh-rsa AAAAB3NzaC1yc2EAAAADAQABAAABAQC3zM228+PSGqIeX6w6UEFuFKZaqfjEjdU6sRS9aTCQxc/kvG0BB/qIByWlYyYdb4iCeHZuGZ6DU5w2BUR7KRp0jMGQOFqI7rxEOdwkGpGuh14ZDEB1sD3d8aBqqO2XznZkEObyBebYIl+jo/kk0tV2eOhj38880YnrMQ/0AK3+xL7iXwpxv68zjtVtLQzd9Go5dFa4CSFavxLaKEl5cuqnYGcTUHjPCChnpTOTAfmG/SGWRSK8RbXsJHfWoTIrkXG0ZvlC7eu14NH/UuCnwZSy7n8+aWoWIAEwfxSx0/3thkHY8alOTXfINeRYlYsdxerOJexhqekLPE80m8nI5DqJ\"\n        }\n      ]\n    }\n  },\n  \"location\": \"southafricanorth\",\n  \"maxAgentPools\": 1,\n  \"name\": \"kubesqlbdc-cluster\",\n  \"networkProfile\": {\n    \"dnsServiceIp\": \"10.0.0.10\",\n    \"dockerBridgeCidr\": \"172.17.0.1/16\",\n    \"loadBalancerSku\": \"basic\",\n    \"networkPlugin\": \"kubenet\",\n    \"networkPolicy\": null,\n    \"podCidr\": \"10.244.0.0/16\",\n    \"serviceCidr\": \"10.0.0.0/16\"\n  },\n  \"nodeResourceGroup\": \"MC_rg-sqlbdc_kubesqlbdc-cluster_southafricanorth\",\n  \"provisioningState\": \"Succeeded\",\n  \"resourceGroup\": \"rg-sqlbdc\",\n  \"servicePrincipalProfile\": {\n    \"clientId\": \"9654f0b2-fa72-462a-945d-2544a3445e75\",\n    \"secret\": null\n  },\n  \"tags\": null,\n  \"type\": \"Microsoft.ContainerService/ManagedClusters\",\n  \"windowsProfile\": null\n}\nSuccessfully executed: az aks create --name kubesqlbdc-cluster --resource-group rg-sqlbdc --generate-ssh-keys --node-vm-size Standard_B8ms --node-count 3\n",
                    "output_type": "stream"
                },
                {
                    "name": "stderr",
                    "text": "WARNING: SSH key files 'C:\\Users\\niels\\.ssh\\id_rsa' and 'C:\\Users\\niels\\.ssh\\id_rsa.pub' have been generated under ~/.ssh to allow SSH access to the VM. If using machines without permanent storage like Azure Cloud Shell without an attached file share, back up your keys to a safe location\n\nFinished service principal creation[##################################]  100.0000%\n",
                    "output_type": "stream"
                }
            ],
            "execution_count": 10
        },
        {
            "cell_type": "markdown",
            "source": "### **Set the new AKS cluster as current context**",
            "metadata": {}
        },
        {
            "cell_type": "code",
            "source": [
                "cmd = f'az aks get-credentials --resource-group {azure_resource_group} --name {aks_cluster_name} --admin --overwrite-existing'\r\n",
                "run_command()"
            ],
            "metadata": {},
            "outputs": [
                {
                    "name": "stdout",
                    "text": "Executing: az aks get-credentials --resource-group rg-sqlbdc --name kubesqlbdc-cluster --admin --overwrite-existing\n",
                    "output_type": "stream"
                },
                {
                    "name": "stdout",
                    "text": "Merged \"kubesqlbdc-cluster-admin\" as current context in C:\\Users\\niels\\.kube\\config\nSuccessfully executed: az aks get-credentials --resource-group rg-sqlbdc --name kubesqlbdc-cluster --admin --overwrite-existing\n",
                    "output_type": "stream"
                }
            ],
            "execution_count": 11
        },
        {
            "cell_type": "markdown",
            "source": "### **Create a deployment configuration file**",
            "metadata": {}
        },
        {
            "cell_type": "code",
            "source": [
                "os.environ[\"ACCEPT_EULA\"] = 'yes'\n",
                "cmd = f'azdata bdc config init --source {configuration_profile} --target {configuration_folder} --force'\n",
                "run_command()\n",
                "cmd = f'azdata bdc config replace -c {configuration_folder}/cluster.json -j metadata.name={mssql_cluster_name}'\n",
                "run_command()"
            ],
            "metadata": {},
            "outputs": [
                {
                    "name": "stdout",
                    "text": "Executing: azdata bdc config init --source aks-dev-test --target mssql-bdc-configuration --force\n",
                    "output_type": "stream"
                },
                {
                    "name": "stdout",
                    "text": "The privacy statement can be viewed at:\nhttps://go.microsoft.com/fwlink/?LinkId=853010\n\nThe license terms for azdata can be viewed at:\nhttps://aka.ms/azdata-eula\n\nmssql-bdc-configuration\\cluster.json created\nmssql-bdc-configuration\\control.json created\nSuccessfully executed: azdata bdc config init --source aks-dev-test --target mssql-bdc-configuration --force\nExecuting: azdata bdc config replace -c mssql-bdc-configuration/cluster.json -j metadata.name=sqlbdc-cluster\n",
                    "output_type": "stream"
                },
                {
                    "name": "stdout",
                    "text": "Successfully executed: azdata bdc config replace -c mssql-bdc-configuration/cluster.json -j metadata.name=sqlbdc-cluster\n",
                    "output_type": "stream"
                }
            ],
            "execution_count": 12
        },
        {
            "cell_type": "markdown",
            "source": "### **Create SQL Server 2019 big data cluster**",
            "metadata": {}
        },
        {
            "cell_type": "code",
            "source": [
                "print (f'Creating SQL Server 2019 big data cluster: {mssql_cluster_name} using configuration {configuration_folder}')\n",
                "os.environ[\"CONTROLLER_USERNAME\"] = mssql_controller_username\n",
                "os.environ[\"CONTROLLER_PASSWORD\"] = mssql_password\n",
                "os.environ[\"MSSQL_SA_PASSWORD\"] = mssql_password\n",
                "os.environ[\"KNOX_PASSWORD\"] = mssql_password\n",
                "cmd = f'azdata bdc create -c {configuration_folder}'\n",
                "run_command()"
            ],
            "metadata": {},
            "outputs": [
                {
                    "name": "stdout",
                    "text": "Creating SQL Server 2019 big data cluster: sqlbdc-cluster using configuration mssql-bdc-configuration\nExecuting: azdata bdc create -c mssql-bdc-configuration\n",
                    "output_type": "stream"
                },
                {
                    "name": "stdout",
                    "text": "The privacy statement can be viewed at:\nhttps://go.microsoft.com/fwlink/?LinkId=853010\n\nThe license terms for SQL Server Big Data Cluster can be viewed at:\nhttps://go.microsoft.com/fwlink/?LinkId=2002534\n\n\nCluster deployment documentation can be viewed at:\nhttps://aka.ms/bdc-deploy\n\nNOTE: Cluster creation can take a significant amount of time depending on\nconfiguration, network speed, and the number of nodes in the cluster.\n\nStarting cluster deployment.\nWaiting for cluster controller to start.\nWaiting for cluster controller to start.\nWaiting for cluster controller to start.\nWaiting for cluster controller to start.\nWaiting for cluster controller to start.\nWaiting for cluster controller to start.\nWaiting for cluster controller to start.\nWaiting for cluster controller to start.\nCluster controller endpoint is available at 102.133.226.210:30080.\nWaiting for control plane to be ready after 5 minutes.\nCluster control plane is ready. \nData pool is ready. \nMaster pool is ready. \nCompute pool is ready. \nStorage pool is ready. \nCluster deployed successfully.\nSuccessfully executed: azdata bdc create -c mssql-bdc-configuration\n",
                    "output_type": "stream"
                },
                {
                    "name": "stderr",
                    "text": "WARNING: Cluster is not ready after 15 minutes. Check controller logs for more details.\n",
                    "output_type": "stream"
                }
            ],
            "execution_count": 13
        },
        {
            "cell_type": "markdown",
            "source": "### **Login to SQL Server 2019 big data cluster**",
            "metadata": {}
        },
        {
            "cell_type": "code",
            "source": [
                "cmd = f'azdata login --cluster-name {mssql_cluster_name}'\n",
                "run_command()"
            ],
            "metadata": {},
            "outputs": [
                {
                    "name": "stdout",
                    "text": "Executing: azdata login --cluster-name sqlbdc-cluster\n",
                    "output_type": "stream"
                },
                {
                    "name": "stdout",
                    "text": "User `admin` logged in successfully to `https://102.133.226.210:30080`\nSuccessfully executed: azdata login --cluster-name sqlbdc-cluster\n",
                    "output_type": "stream"
                }
            ],
            "execution_count": 14
        },
        {
            "cell_type": "markdown",
            "source": "### **Show SQL Server 2019 big data cluster endpoints**",
            "metadata": {}
        },
        {
            "cell_type": "code",
            "source": [
                "from IPython.display import *\n",
                "pandas.set_option('display.max_colwidth', -1)\n",
                "cmd = f'azdata bdc endpoint list'\n",
                "cmdOutput = !{cmd}\n",
                "endpoints = json.loads(''.join(cmdOutput))\n",
                "endpointsDataFrame = pandas.DataFrame(endpoints)\n",
                "endpointsDataFrame.columns = [' '.join(word[0].upper() + word[1:] for word in columnName.split()) for columnName in endpoints[0].keys()]\n",
                "display(HTML(endpointsDataFrame.to_html(index=False, render_links=True)))"
            ],
            "metadata": {},
            "outputs": [
                {
                    "data": {
                        "text/plain": "<IPython.core.display.HTML object>",
                        "text/html": "<table border=\"1\" class=\"dataframe\">\n  <thead>\n    <tr style=\"text-align: right;\">\n      <th>Description</th>\n      <th>Endpoint</th>\n      <th>Ip</th>\n      <th>Name</th>\n      <th>Path</th>\n      <th>Port</th>\n      <th>Protocol</th>\n      <th>Service</th>\n    </tr>\n  </thead>\n  <tbody>\n    <tr>\n      <td>Gateway to access HDFS files, Spark</td>\n      <td><a href=\"https://102.133.226.227:30443\" target=\"_blank\">https://102.133.226.227:30443</a></td>\n      <td>102.133.226.227</td>\n      <td>gateway</td>\n      <td></td>\n      <td>30443</td>\n      <td>https</td>\n      <td>gateway-svc-external</td>\n    </tr>\n    <tr>\n      <td>Spark Jobs Management and Monitoring Dashboard</td>\n      <td><a href=\"https://102.133.226.227:30443/gateway/default/sparkhistory\" target=\"_blank\">https://102.133.226.227:30443/gateway/default/sparkhistory</a></td>\n      <td>102.133.226.227</td>\n      <td>spark-history</td>\n      <td>/gateway/default/sparkhistory</td>\n      <td>30443</td>\n      <td>https</td>\n      <td>gateway-svc-external</td>\n    </tr>\n    <tr>\n      <td>Spark Diagnostics and Monitoring Dashboard</td>\n      <td><a href=\"https://102.133.226.227:30443/gateway/default/yarn\" target=\"_blank\">https://102.133.226.227:30443/gateway/default/yarn</a></td>\n      <td>102.133.226.227</td>\n      <td>yarn-ui</td>\n      <td>/gateway/default/yarn</td>\n      <td>30443</td>\n      <td>https</td>\n      <td>gateway-svc-external</td>\n    </tr>\n    <tr>\n      <td>Application Proxy</td>\n      <td><a href=\"https://102.133.227.183:30778\" target=\"_blank\">https://102.133.227.183:30778</a></td>\n      <td>102.133.227.183</td>\n      <td>app-proxy</td>\n      <td></td>\n      <td>30778</td>\n      <td>https</td>\n      <td>appproxy-svc-external</td>\n    </tr>\n    <tr>\n      <td>Management Proxy</td>\n      <td><a href=\"https://102.133.226.159:30777\" target=\"_blank\">https://102.133.226.159:30777</a></td>\n      <td>102.133.226.159</td>\n      <td>mgmtproxy</td>\n      <td></td>\n      <td>30777</td>\n      <td>https</td>\n      <td>mgmtproxy-svc-external</td>\n    </tr>\n    <tr>\n      <td>Log Search Dashboard</td>\n      <td><a href=\"https://102.133.226.159:30777/kibana\" target=\"_blank\">https://102.133.226.159:30777/kibana</a></td>\n      <td>102.133.226.159</td>\n      <td>logsui</td>\n      <td>/kibana</td>\n      <td>30777</td>\n      <td>https</td>\n      <td>mgmtproxy-svc-external</td>\n    </tr>\n    <tr>\n      <td>Metrics Dashboard</td>\n      <td><a href=\"https://102.133.226.159:30777/grafana\" target=\"_blank\">https://102.133.226.159:30777/grafana</a></td>\n      <td>102.133.226.159</td>\n      <td>metricsui</td>\n      <td>/grafana</td>\n      <td>30777</td>\n      <td>https</td>\n      <td>mgmtproxy-svc-external</td>\n    </tr>\n    <tr>\n      <td>Cluster Management Service</td>\n      <td><a href=\"https://102.133.226.210:30080\" target=\"_blank\">https://102.133.226.210:30080</a></td>\n      <td>102.133.226.210</td>\n      <td>controller</td>\n      <td></td>\n      <td>30080</td>\n      <td>https</td>\n      <td>controller-svc-external</td>\n    </tr>\n    <tr>\n      <td>SQL Server Master Instance Front-End</td>\n      <td>102.133.226.209,31433</td>\n      <td>102.133.226.209</td>\n      <td>sql-server-master</td>\n      <td></td>\n      <td>31433</td>\n      <td>tcp</td>\n      <td>master-svc-external</td>\n    </tr>\n    <tr>\n      <td>HDFS File System Proxy</td>\n      <td><a href=\"https://102.133.226.227:30443/gateway/default/webhdfs/v1\" target=\"_blank\">https://102.133.226.227:30443/gateway/default/webhdfs/v1</a></td>\n      <td>102.133.226.227</td>\n      <td>webhdfs</td>\n      <td>/gateway/default/webhdfs/v1</td>\n      <td>30443</td>\n      <td>https</td>\n      <td>gateway-svc-external</td>\n    </tr>\n    <tr>\n      <td>Proxy for running Spark statements, jobs, applications</td>\n      <td><a href=\"https://102.133.226.227:30443/gateway/default/livy/v1\" target=\"_blank\">https://102.133.226.227:30443/gateway/default/livy/v1</a></td>\n      <td>102.133.226.227</td>\n      <td>livy</td>\n      <td>/gateway/default/livy/v1</td>\n      <td>30443</td>\n      <td>https</td>\n      <td>gateway-svc-external</td>\n    </tr>\n  </tbody>\n</table>"
                    },
                    "metadata": {},
                    "output_type": "display_data"
                }
            ],
            "execution_count": 15
        },
        {
            "cell_type": "markdown",
            "source": [
                "### **Connect to master SQL Server instance in Azure Data Studio**\r\n",
                "Click the link below to connect to the master SQL Server instance of the SQL Server 2019 big data cluster."
            ],
            "metadata": {}
        },
        {
            "cell_type": "code",
            "source": [
                "sqlEndpoints = [x for x in endpoints if x['name'] == 'sql-server-master']\r\n",
                "if sqlEndpoints and len(sqlEndpoints) == 1:\r\n",
                "    connectionParameter = '{\"serverName\":\"' + sqlEndpoints[0]['endpoint'] + '\",\"providerName\":\"MSSQL\",\"authenticationType\":\"SqlLogin\",\"userName\":\"sa\",\"password\":' + json.dumps(mssql_password) + '}'\r\n",
                "    display(HTML('<br/><a href=\"command:azdata.connect?' + html.escape(connectionParameter)+'\"><font size=\"3\">Click here to connect to master SQL Server instance</font></a><br/>'))\r\n",
                "else:\r\n",
                "    sys.exit('Could not find the master SQL Server instance endpoint.')"
            ],
            "metadata": {},
            "outputs": [],
            "execution_count": 14
        }
    ]
}