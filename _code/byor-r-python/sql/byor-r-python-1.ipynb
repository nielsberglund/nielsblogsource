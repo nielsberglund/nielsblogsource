{
    "metadata": {
        "kernelspec": {
            "name": "SQL",
            "display_name": "SQL",
            "language": "sql"
        },
        "language_info": {
            "name": "sql",
            "version": ""
        }
    },
    "nbformat_minor": 2,
    "nbformat": 4,
    "cells": [
        {
            "cell_type": "markdown",
            "source": [
                "# Bring Your Own R & Python Runtime - I\n",
                "\n",
                "I am running this on a newly installed SQL Server 2019 CU4, with MS R & Python installed.\n",
                "\n",
                "Let's start with creating a database to use:"
            ],
            "metadata": {
                "azdata_cell_guid": "fa0937d3-d3f2-40a4-ae7f-00df5ff2a33a"
            }
        },
        {
            "cell_type": "code",
            "source": [
                "USE Master;\r\n",
                "GO\r\n",
                "\r\n",
                "IF EXISTS(SELECT 1 FROM sys.databases WHERE name = 'ExtLangDB')\r\n",
                "BEGIN\r\n",
                "  DROP DATABASE ExtLangDB\r\n",
                "END\r\n",
                "GO\r\n",
                "\r\n",
                "CREATE DATABASE ExtLangDB;\r\n",
                "GO"
            ],
            "metadata": {
                "azdata_cell_guid": "a0c5beb0-04a7-4488-b7b2-93abab6cb188"
            },
            "outputs": [
                {
                    "output_type": "display_data",
                    "data": {
                        "text/html": "Commands completed successfully."
                    },
                    "metadata": {}
                },
                {
                    "output_type": "display_data",
                    "data": {
                        "text/html": "Commands completed successfully."
                    },
                    "metadata": {}
                },
                {
                    "output_type": "display_data",
                    "data": {
                        "text/html": "Commands completed successfully."
                    },
                    "metadata": {}
                },
                {
                    "output_type": "display_data",
                    "data": {
                        "text/html": "Total execution time: 00:00:00.248"
                    },
                    "metadata": {}
                }
            ],
            "execution_count": 10
        },
        {
            "cell_type": "markdown",
            "source": [
                "Let's check the version of Python"
            ],
            "metadata": {
                "azdata_cell_guid": "c2773abb-0c5e-48f0-8c5a-f5003f53477a"
            }
        },
        {
            "cell_type": "code",
            "source": [
                "EXEC sp_execute_external_script\r\n",
                "@language =N'Python',\r\n",
                "@script=N'\r\n",
                "import pandas as pd\r\n",
                "import sys\r\n",
                "df = pd.DataFrame(columns=[\"Version\"])\r\n",
                "ver = sys.version\r\n",
                "df = df.append({\"Version\": ver}, ignore_index=True)\r\n",
                "OutputDataSet = df'\r\n",
                "WITH RESULT SETS (([Python Version] nvarchar(256)));"
            ],
            "metadata": {
                "azdata_cell_guid": "8c19c029-3b19-41ce-9619-1ebbb815d959"
            },
            "outputs": [
                {
                    "output_type": "display_data",
                    "data": {
                        "text/html": "(1 row affected)"
                    },
                    "metadata": {}
                },
                {
                    "output_type": "display_data",
                    "data": {
                        "text/html": "Total execution time: 00:00:00.280"
                    },
                    "metadata": {}
                },
                {
                    "output_type": "execute_result",
                    "metadata": {
                        "resultSet": {
                            "id": 0,
                            "batchId": 0,
                            "rowCount": 1,
                            "complete": true,
                            "columnInfo": [
                                {
                                    "isBytes": false,
                                    "isChars": true,
                                    "isSqlVariant": false,
                                    "isUdt": false,
                                    "isXml": false,
                                    "isJson": false,
                                    "sqlDbType": 12,
                                    "isHierarchyId": false,
                                    "isSqlXmlType": false,
                                    "isUnknownType": false,
                                    "isUpdatable": false,
                                    "allowDBNull": true,
                                    "baseCatalogName": null,
                                    "baseColumnName": null,
                                    "baseSchemaName": null,
                                    "baseServerName": null,
                                    "baseTableName": null,
                                    "columnName": "Python Version",
                                    "columnOrdinal": 0,
                                    "columnSize": 256,
                                    "isAliased": null,
                                    "isAutoIncrement": false,
                                    "isExpression": null,
                                    "isHidden": null,
                                    "isIdentity": false,
                                    "isKey": null,
                                    "isLong": false,
                                    "isReadOnly": true,
                                    "isUnique": false,
                                    "numericPrecision": 255,
                                    "numericScale": 255,
                                    "udtAssemblyQualifiedName": null,
                                    "dataType": "System.String, System.Private.CoreLib, Version=4.0.0.0, Culture=neutral, PublicKeyToken=7cec85d7bea7798e",
                                    "dataTypeName": "nvarchar"
                                }
                            ],
                            "specialAction": {
                                "none": true,
                                "expectYukonXMLShowPlan": false
                            }
                        }
                    },
                    "execution_count": 8,
                    "data": {
                        "application/vnd.dataresource+json": {
                            "schema": {
                                "fields": [
                                    {
                                        "name": "Python Version"
                                    }
                                ]
                            },
                            "data": [
                                {
                                    "0": "3.7.1 (default, Dec 10 2018, 22:54:23) [MSC v.1915 64 bit (AMD64)]"
                                }
                            ]
                        },
                        "text/html": [
                            "<table>",
                            "<tr><th>Python Version</th></tr>",
                            "<tr><td>3.7.1 (default, Dec 10 2018, 22:54:23) [MSC v.1915 64 bit (AMD64)]</td></tr>",
                            "</table>"
                        ]
                    }
                }
            ],
            "execution_count": 8
        },
        {
            "cell_type": "code",
            "source": [
                "EXEC sp_execute_external_script\r\n",
                "@language =N'Python',\r\n",
                "@script=N'\r\n",
                "import pandas as pd\r\n",
                "import sys\r\n",
                "df = pd.DataFrame(columns=[\"Version\", \"PythonPath\"])\r\n",
                "ver = sys.version\r\n",
                "path = sys.executable\r\n",
                "df = df.append({\"Version\": ver, \"PythonPath\": path}, ignore_index=True)\r\n",
                "OutputDataSet = df'\r\n",
                "WITH RESULT SETS (([Python Version] nvarchar(256), PythonPath nvarchar(256)));"
            ],
            "metadata": {
                "azdata_cell_guid": "72113a8d-479b-4e91-b936-27c094d6820f"
            },
            "outputs": [],
            "execution_count": null
        },
        {
            "cell_type": "code",
            "source": [
                "EXEC sp_execute_external_script\r\n",
                "@language =N'Python',\r\n",
                "@script=N'\r\n",
                "import sys\r\n",
                "print(sys.version)\r\n",
                "print(sys.executable)';"
            ],
            "metadata": {
                "azdata_cell_guid": "93c4addf-c46c-4c93-9268-4ae9d988b59a"
            },
            "outputs": [],
            "execution_count": null
        }
    ]
}