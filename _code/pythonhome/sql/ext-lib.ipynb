{
    "metadata": {
        "kernelspec": {
            "name": "SQL",
            "display_name": "SQL",
            "language": "sql"
        },
        "language_info": {
            "name": "sql",
            "version": ""
        }
    },
    "nbformat_minor": 2,
    "nbformat": 4,
    "cells": [
        {
            "cell_type": "markdown",
            "source": [
                "# Create External Library - Python"
            ],
            "metadata": {
                "azdata_cell_guid": "54162c67-e703-45e7-a91e-974d84b75f72"
            }
        },
        {
            "cell_type": "code",
            "source": [
                "USE ExtLangDB;\r\n",
                "GO"
            ],
            "metadata": {
                "azdata_cell_guid": "cba43d13-ce41-4bc2-ac7a-3bb980bac923"
            },
            "outputs": [
                {
                    "output_type": "display_data",
                    "data": {
                        "text/html": "Commands completed successfully."
                    },
                    "metadata": {}
                },
                {
                    "output_type": "display_data",
                    "data": {
                        "text/html": "Total execution time: 00:00:00"
                    },
                    "metadata": {}
                }
            ],
            "execution_count": 1
        },
        {
            "cell_type": "code",
            "source": [
                "SELECT DB_NAME();\r\n",
                "GO"
            ],
            "metadata": {
                "azdata_cell_guid": "8edaeadb-32ba-4acf-9028-1a04a8a27c08"
            },
            "outputs": [
                {
                    "output_type": "display_data",
                    "data": {
                        "text/html": "(1 row affected)"
                    },
                    "metadata": {}
                },
                {
                    "output_type": "display_data",
                    "data": {
                        "text/html": "Total execution time: 00:00:00.008"
                    },
                    "metadata": {}
                },
                {
                    "output_type": "execute_result",
                    "metadata": {
                        "resultSet": {
                            "id": 0,
                            "batchId": 0,
                            "rowCount": 1,
                            "complete": true,
                            "columnInfo": [
                                {
                                    "isBytes": false,
                                    "isChars": true,
                                    "isSqlVariant": false,
                                    "isUdt": false,
                                    "isXml": false,
                                    "isJson": false,
                                    "sqlDbType": 12,
                                    "isHierarchyId": false,
                                    "isSqlXmlType": false,
                                    "isUnknownType": false,
                                    "isUpdatable": false,
                                    "allowDBNull": true,
                                    "baseCatalogName": null,
                                    "baseColumnName": null,
                                    "baseSchemaName": null,
                                    "baseServerName": null,
                                    "baseTableName": null,
                                    "columnName": "(No column name)",
                                    "columnOrdinal": 0,
                                    "columnSize": 128,
                                    "isAliased": null,
                                    "isAutoIncrement": false,
                                    "isExpression": null,
                                    "isHidden": null,
                                    "isIdentity": false,
                                    "isKey": null,
                                    "isLong": false,
                                    "isReadOnly": true,
                                    "isUnique": false,
                                    "numericPrecision": 255,
                                    "numericScale": 255,
                                    "udtAssemblyQualifiedName": null,
                                    "dataType": "System.String, System.Private.CoreLib, Version=4.0.0.0, Culture=neutral, PublicKeyToken=7cec85d7bea7798e",
                                    "dataTypeName": "nvarchar"
                                }
                            ],
                            "specialAction": {
                                "none": true,
                                "expectYukonXMLShowPlan": false
                            }
                        }
                    },
                    "execution_count": 2,
                    "data": {
                        "application/vnd.dataresource+json": {
                            "schema": {
                                "fields": [
                                    {
                                        "name": "(No column name)"
                                    }
                                ]
                            },
                            "data": [
                                {
                                    "0": "ExtLangDB"
                                }
                            ]
                        },
                        "text/html": [
                            "<table>",
                            "<tr><th>(No column name)</th></tr>",
                            "<tr><td>ExtLangDB</td></tr>",
                            "</table>"
                        ]
                    }
                }
            ],
            "execution_count": 2
        },
        {
            "cell_type": "code",
            "source": [
                "CREATE EXTERNAL LIBRARY text_tools\r\n",
                "FROM (CONTENT = 'W:\\text_tools-1.0.0-py3-none-any.zip') \r\n",
                "WITH (LANGUAGE = 'p39');"
            ],
            "metadata": {
                "azdata_cell_guid": "3a1b22dd-bc9f-410c-9245-37c3b1d9d842"
            },
            "outputs": [
                {
                    "output_type": "display_data",
                    "data": {
                        "text/html": "Commands completed successfully."
                    },
                    "metadata": {}
                },
                {
                    "output_type": "display_data",
                    "data": {
                        "text/html": "Total execution time: 00:00:00.001"
                    },
                    "metadata": {}
                }
            ],
            "execution_count": 11
        },
        {
            "cell_type": "code",
            "source": [
                "SELECT * FROM sys.external_libraries"
            ],
            "metadata": {
                "azdata_cell_guid": "1a667d40-4857-4cff-84f0-7b2650ea1e68"
            },
            "outputs": [
                {
                    "output_type": "display_data",
                    "data": {
                        "text/html": "(1 row affected)"
                    },
                    "metadata": {}
                },
                {
                    "output_type": "display_data",
                    "data": {
                        "text/html": "Total execution time: 00:00:00.009"
                    },
                    "metadata": {}
                },
                {
                    "output_type": "execute_result",
                    "metadata": {
                        "resultSet": {
                            "id": 0,
                            "batchId": 0,
                            "rowCount": 1,
                            "complete": true,
                            "columnInfo": [
                                {
                                    "isBytes": false,
                                    "isChars": false,
                                    "isSqlVariant": false,
                                    "isUdt": false,
                                    "isXml": false,
                                    "isJson": false,
                                    "sqlDbType": 8,
                                    "isHierarchyId": false,
                                    "isSqlXmlType": false,
                                    "isUnknownType": false,
                                    "isUpdatable": true,
                                    "allowDBNull": false,
                                    "baseCatalogName": null,
                                    "baseColumnName": null,
                                    "baseSchemaName": null,
                                    "baseServerName": null,
                                    "baseTableName": null,
                                    "columnName": "external_library_id",
                                    "columnOrdinal": 0,
                                    "columnSize": 4,
                                    "isAliased": null,
                                    "isAutoIncrement": false,
                                    "isExpression": null,
                                    "isHidden": null,
                                    "isIdentity": false,
                                    "isKey": null,
                                    "isLong": false,
                                    "isReadOnly": false,
                                    "isUnique": false,
                                    "numericPrecision": 10,
                                    "numericScale": 255,
                                    "udtAssemblyQualifiedName": null,
                                    "dataType": "System.Int32, System.Private.CoreLib, Version=4.0.0.0, Culture=neutral, PublicKeyToken=7cec85d7bea7798e",
                                    "dataTypeName": "int"
                                },
                                {
                                    "isBytes": false,
                                    "isChars": true,
                                    "isSqlVariant": false,
                                    "isUdt": false,
                                    "isXml": false,
                                    "isJson": false,
                                    "sqlDbType": 12,
                                    "isHierarchyId": false,
                                    "isSqlXmlType": false,
                                    "isUnknownType": false,
                                    "isUpdatable": false,
                                    "allowDBNull": true,
                                    "baseCatalogName": null,
                                    "baseColumnName": null,
                                    "baseSchemaName": null,
                                    "baseServerName": null,
                                    "baseTableName": null,
                                    "columnName": "name",
                                    "columnOrdinal": 1,
                                    "columnSize": 128,
                                    "isAliased": null,
                                    "isAutoIncrement": false,
                                    "isExpression": null,
                                    "isHidden": null,
                                    "isIdentity": false,
                                    "isKey": null,
                                    "isLong": false,
                                    "isReadOnly": true,
                                    "isUnique": false,
                                    "numericPrecision": 255,
                                    "numericScale": 255,
                                    "udtAssemblyQualifiedName": null,
                                    "dataType": "System.String, System.Private.CoreLib, Version=4.0.0.0, Culture=neutral, PublicKeyToken=7cec85d7bea7798e",
                                    "dataTypeName": "nvarchar"
                                },
                                {
                                    "isBytes": false,
                                    "isChars": false,
                                    "isSqlVariant": false,
                                    "isUdt": false,
                                    "isXml": false,
                                    "isJson": false,
                                    "sqlDbType": 8,
                                    "isHierarchyId": false,
                                    "isSqlXmlType": false,
                                    "isUnknownType": false,
                                    "isUpdatable": true,
                                    "allowDBNull": true,
                                    "baseCatalogName": null,
                                    "baseColumnName": null,
                                    "baseSchemaName": null,
                                    "baseServerName": null,
                                    "baseTableName": null,
                                    "columnName": "principal_id",
                                    "columnOrdinal": 2,
                                    "columnSize": 4,
                                    "isAliased": null,
                                    "isAutoIncrement": false,
                                    "isExpression": null,
                                    "isHidden": null,
                                    "isIdentity": false,
                                    "isKey": null,
                                    "isLong": false,
                                    "isReadOnly": false,
                                    "isUnique": false,
                                    "numericPrecision": 10,
                                    "numericScale": 255,
                                    "udtAssemblyQualifiedName": null,
                                    "dataType": "System.Int32, System.Private.CoreLib, Version=4.0.0.0, Culture=neutral, PublicKeyToken=7cec85d7bea7798e",
                                    "dataTypeName": "int"
                                },
                                {
                                    "isBytes": false,
                                    "isChars": true,
                                    "isSqlVariant": false,
                                    "isUdt": false,
                                    "isXml": false,
                                    "isJson": false,
                                    "sqlDbType": 12,
                                    "isHierarchyId": false,
                                    "isSqlXmlType": false,
                                    "isUnknownType": false,
                                    "isUpdatable": false,
                                    "allowDBNull": true,
                                    "baseCatalogName": null,
                                    "baseColumnName": null,
                                    "baseSchemaName": null,
                                    "baseServerName": null,
                                    "baseTableName": null,
                                    "columnName": "language",
                                    "columnOrdinal": 3,
                                    "columnSize": 128,
                                    "isAliased": null,
                                    "isAutoIncrement": false,
                                    "isExpression": null,
                                    "isHidden": null,
                                    "isIdentity": false,
                                    "isKey": null,
                                    "isLong": false,
                                    "isReadOnly": true,
                                    "isUnique": false,
                                    "numericPrecision": 255,
                                    "numericScale": 255,
                                    "udtAssemblyQualifiedName": null,
                                    "dataType": "System.String, System.Private.CoreLib, Version=4.0.0.0, Culture=neutral, PublicKeyToken=7cec85d7bea7798e",
                                    "dataTypeName": "nvarchar"
                                },
                                {
                                    "isBytes": false,
                                    "isChars": false,
                                    "isSqlVariant": false,
                                    "isUdt": false,
                                    "isXml": false,
                                    "isJson": false,
                                    "sqlDbType": 8,
                                    "isHierarchyId": false,
                                    "isSqlXmlType": false,
                                    "isUnknownType": false,
                                    "isUpdatable": false,
                                    "allowDBNull": false,
                                    "baseCatalogName": null,
                                    "baseColumnName": null,
                                    "baseSchemaName": null,
                                    "baseServerName": null,
                                    "baseTableName": null,
                                    "columnName": "scope",
                                    "columnOrdinal": 4,
                                    "columnSize": 4,
                                    "isAliased": null,
                                    "isAutoIncrement": false,
                                    "isExpression": null,
                                    "isHidden": null,
                                    "isIdentity": false,
                                    "isKey": null,
                                    "isLong": false,
                                    "isReadOnly": true,
                                    "isUnique": false,
                                    "numericPrecision": 10,
                                    "numericScale": 255,
                                    "udtAssemblyQualifiedName": null,
                                    "dataType": "System.Int32, System.Private.CoreLib, Version=4.0.0.0, Culture=neutral, PublicKeyToken=7cec85d7bea7798e",
                                    "dataTypeName": "int"
                                },
                                {
                                    "isBytes": false,
                                    "isChars": true,
                                    "isSqlVariant": false,
                                    "isUdt": false,
                                    "isXml": false,
                                    "isJson": false,
                                    "sqlDbType": 22,
                                    "isHierarchyId": false,
                                    "isSqlXmlType": false,
                                    "isUnknownType": false,
                                    "isUpdatable": false,
                                    "allowDBNull": false,
                                    "baseCatalogName": null,
                                    "baseColumnName": null,
                                    "baseSchemaName": null,
                                    "baseServerName": null,
                                    "baseTableName": null,
                                    "columnName": "scope_desc",
                                    "columnOrdinal": 5,
                                    "columnSize": 7,
                                    "isAliased": null,
                                    "isAutoIncrement": false,
                                    "isExpression": null,
                                    "isHidden": null,
                                    "isIdentity": false,
                                    "isKey": null,
                                    "isLong": false,
                                    "isReadOnly": true,
                                    "isUnique": false,
                                    "numericPrecision": 255,
                                    "numericScale": 255,
                                    "udtAssemblyQualifiedName": null,
                                    "dataType": "System.String, System.Private.CoreLib, Version=4.0.0.0, Culture=neutral, PublicKeyToken=7cec85d7bea7798e",
                                    "dataTypeName": "varchar"
                                }
                            ],
                            "specialAction": {
                                "none": true,
                                "expectYukonXMLShowPlan": false
                            }
                        }
                    },
                    "execution_count": 12,
                    "data": {
                        "application/vnd.dataresource+json": {
                            "schema": {
                                "fields": [
                                    {
                                        "name": "external_library_id"
                                    },
                                    {
                                        "name": "name"
                                    },
                                    {
                                        "name": "principal_id"
                                    },
                                    {
                                        "name": "language"
                                    },
                                    {
                                        "name": "scope"
                                    },
                                    {
                                        "name": "scope_desc"
                                    }
                                ]
                            },
                            "data": [
                                {
                                    "0": "65537",
                                    "1": "text_tools",
                                    "2": "1",
                                    "3": "p39",
                                    "4": "0",
                                    "5": "PUBLIC"
                                }
                            ]
                        },
                        "text/html": [
                            "<table>",
                            "<tr><th>external_library_id</th><th>name</th><th>principal_id</th><th>language</th><th>scope</th><th>scope_desc</th></tr>",
                            "<tr><td>65537</td><td>text_tools</td><td>1</td><td>p39</td><td>0</td><td>PUBLIC</td></tr>",
                            "</table>"
                        ]
                    }
                }
            ],
            "execution_count": 12
        },
        {
            "cell_type": "code",
            "source": [
                "EXEC sp_execute_external_script\r\n",
                "@language =N'p39',\r\n",
                "@script=N'\r\n",
                "from text_tools.finders import find_best_string\r\n",
                "corpus = \"Lorem Ipsum text\"\r\n",
                "query = \"Ipsum\"\r\n",
                "first_match = find_best_string(query, corpus)\r\n",
                "print(first_match)\r\n",
                "'"
            ],
            "metadata": {
                "azdata_cell_guid": "612be1a4-0780-4bae-b9b2-920adbae006d"
            },
            "outputs": [
                {
                    "output_type": "display_data",
                    "data": {
                        "text/html": "STDOUT message(s) from external script: \nProcessing c:\\program files\\microsoft sql server\\mssql15.inst2\\mssql\\externallibraries\\5\\65537\\1\\tmp\\text_tools-1.0.0-py3-none-any.whl\r\nInstalling collected packages: text-tools\r\nERROR: Exception:\r\nTraceback (most recent call last):\r\n  File \"C:\\mypython\\Python39\\lib\\distutils\\util.py\", line 205, in subst_vars\r\n    return re.sub(r'\\$([a-zA-Z_][a-zA-Z_0-9]*)', _subst, s)\r\n  File \"C:\\mypython\\Python39\\lib\\re.py\", line 210, in sub\r\n    return _compile(pattern, flags).sub(repl, string, count)\r\n  File \"C:\\mypython\\Python39\\lib\\distutils\\util.py\", line 202, in _subst\r\n    return os.environ[var_name]\r\n  File \"C:\\mypython\\Python39\\lib\\os.py\", line 679, in __getitem__\r\n    raise KeyError(key) from None\r\nKeyError: 'INST2'\r\n\r\nDuring handling of the above exception, another exception occurred:\r\n\r\nTraceback (most recent call last):\r\n  File \"C:\\mypython\\Python39\\lib\\site-packages\\pip\\_internal\\cli\\base_command.py\", line 228, in _main\r\n    status = self.run(options, args)\r\n  File \"C:\\mypython\\Python39\\lib\\site-packages\\pip\\_"
                    },
                    "metadata": {}
                },
                {
                    "output_type": "display_data",
                    "data": {
                        "text/html": "STDOUT message(s) from external script: \ninternal\\cli\\req_command.py\", line 182, in wrapper\r\n    return func(self, options, args)\r\n  File \"C:\\mypython\\Python39\\lib\\site-packages\\pip\\_internal\\commands\\install.py\", line 397, in run\r\n    installed = install_given_reqs(\r\n  File \"C:\\mypython\\Python39\\lib\\site-packages\\pip\\_internal\\req\\__init__.py\", line 82, in install_given_reqs\r\n    requirement.install(\r\n  File \"C:\\mypython\\Python39\\lib\\site-packages\\pip\\_internal\\req\\req_install.py\", line 779, in install\r\n    scheme = get_scheme(\r\n  File \"C:\\mypython\\Python39\\lib\\site-packages\\pip\\_internal\\locations.py\", line 185, in get_scheme\r\n    scheme = distutils_scheme(\r\n  File \"C:\\mypython\\Python39\\lib\\site-packages\\pip\\_internal\\locations.py\", line 125, in distutils_scheme\r\n    i.finalize_options()\r\n  File \"C:\\mypython\\Python39\\lib\\distutils\\command\\install.py\", line 308, in finalize_options\r\n    self.expand_basedirs()\r\n  File \"C:\\mypython\\Python39\\lib\\distutils\\command\\install.py\", line 476, in expand_basedirs\r\n    self._expand_attrs(['install_base', 'insta"
                    },
                    "metadata": {}
                },
                {
                    "output_type": "display_data",
                    "data": {
                        "text/html": "STDOUT message(s) from external script: \nll_platbase', 'root'])\r\n  File \"C:\\mypython\\Python39\\lib\\distutils\\command\\install.py\", line 470, in _expand_attrs\r\n    val = subst_vars(val, self.config_vars)\r\n  File \"C:\\mypython\\Python39\\lib\\distutils\\util.py\", line 207, in subst_vars\r\n    raise ValueError(\"invalid variable '$%s'\" % var)\r\nValueError: invalid variable '$'INST2''\r\n2021-01-08 17:00:45.37\tError: Pip failed to install the package with exit code 2\n"
                    },
                    "metadata": {}
                },
                {
                    "output_type": "error",
                    "evalue": "Msg 39004, Level 16, State 20, Line 0\r\nA 'p39' script error occurred during execution of 'sp_execute_external_script' with HRESULT 0x80004004.",
                    "ename": "",
                    "traceback": []
                },
                {
                    "output_type": "display_data",
                    "data": {
                        "text/html": "STDOUT message(s) from external script: \n2021-01-08 17:00:45.89\tError: Python error: <class 'ModuleNotFoundError'>: No module named 'text_tools':   File \"<string>\", line 2, in <module>\n\n"
                    },
                    "metadata": {}
                },
                {
                    "output_type": "display_data",
                    "data": {
                        "text/html": "Total execution time: 00:00:01.618"
                    },
                    "metadata": {}
                }
            ],
            "execution_count": 15
        },
        {
            "cell_type": "code",
            "source": [
                "DROP EXTERNAL LIBRARY text_tools;"
            ],
            "metadata": {
                "azdata_cell_guid": "443597fd-885a-4a69-aa83-173e728430a6"
            },
            "outputs": [
                {
                    "output_type": "display_data",
                    "data": {
                        "text/html": "Commands completed successfully."
                    },
                    "metadata": {}
                },
                {
                    "output_type": "display_data",
                    "data": {
                        "text/html": "Total execution time: 00:00:00.001"
                    },
                    "metadata": {}
                }
            ],
            "execution_count": 9
        }
    ]
}