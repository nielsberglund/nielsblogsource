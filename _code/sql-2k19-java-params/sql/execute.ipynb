{
    "metadata": {
        "kernelspec": {
            "name": "SQL",
            "display_name": "SQL",
            "language": "sql"
        },
        "language_info": {
            "name": "sql",
            "version": ""
        }
    },
    "nbformat_minor": 2,
    "nbformat": 4,
    "cells": [
        {
            "cell_type": "markdown",
            "source": [
                "# Execute"
            ],
            "metadata": {
                "azdata_cell_guid": "a2b77ba1-d99d-4b5a-9dea-d7cd8745d19d"
            }
        },
        {
            "cell_type": "code",
            "source": [
                "USE JavaTestDB;"
            ],
            "metadata": {
                "azdata_cell_guid": "007b6d16-8d58-410d-abc0-14b44c0deecd"
            },
            "outputs": [
                {
                    "output_type": "display_data",
                    "data": {
                        "text/html": "Commands completed successfully."
                    },
                    "metadata": {}
                },
                {
                    "output_type": "display_data",
                    "data": {
                        "text/html": "Total execution time: 00:00:00.007"
                    },
                    "metadata": {}
                }
            ],
            "execution_count": 2
        },
        {
            "cell_type": "code",
            "source": [
                "SELECT DB_NAME();"
            ],
            "metadata": {
                "azdata_cell_guid": "d892ba60-ffa7-4c70-af2a-1bfa1e6e6733"
            },
            "outputs": [
                {
                    "output_type": "display_data",
                    "data": {
                        "text/html": "(1 row affected)"
                    },
                    "metadata": {}
                },
                {
                    "output_type": "display_data",
                    "data": {
                        "text/html": "Total execution time: 00:00:00.009"
                    },
                    "metadata": {}
                },
                {
                    "output_type": "execute_result",
                    "metadata": {},
                    "execution_count": 3,
                    "data": {
                        "application/vnd.dataresource+json": {
                            "schema": {
                                "fields": [
                                    {
                                        "name": "(No column name)"
                                    }
                                ]
                            },
                            "data": [
                                {
                                    "0": "JavaTestDB"
                                }
                            ]
                        },
                        "text/html": "<table><tr><th>(No column name)</th></tr><tr><td>JavaTestDB</td></tr></table>"
                    }
                }
            ],
            "execution_count": 3
        },
        {
            "cell_type": "code",
            "source": [
                "IF EXISTS(SELECT * FROM sys.external_libraries WHERE name = 'SqlParamLib')\r\n",
                "  DROP EXTERNAL LIBRARY SqlParamLib;"
            ],
            "metadata": {
                "azdata_cell_guid": "798f7408-eaba-4941-8413-a9400ea40a32"
            },
            "outputs": [
                {
                    "output_type": "display_data",
                    "data": {
                        "text/html": "Commands completed successfully."
                    },
                    "metadata": {}
                },
                {
                    "output_type": "display_data",
                    "data": {
                        "text/html": "Total execution time: 00:00:00.019"
                    },
                    "metadata": {}
                }
            ],
            "execution_count": 20
        },
        {
            "cell_type": "code",
            "source": [
                "CREATE EXTERNAL LIBRARY SqlParamLib \r\n",
                "FROM (CONTENT = 'W:\\sql-params-1.0.jar')\r\n",
                "WITH (LANGUAGE = 'Java');"
            ],
            "metadata": {
                "azdata_cell_guid": "cf77a7ef-9594-42ce-948a-daf38fb8f5c1"
            },
            "outputs": [
                {
                    "output_type": "display_data",
                    "data": {
                        "text/html": "Commands completed successfully."
                    },
                    "metadata": {}
                },
                {
                    "output_type": "display_data",
                    "data": {
                        "text/html": "Total execution time: 00:00:00.011"
                    },
                    "metadata": {}
                }
            ],
            "execution_count": 21
        },
        {
            "cell_type": "code",
            "source": [
                "SELECT * FROM sys.external_libraries"
            ],
            "metadata": {
                "azdata_cell_guid": "b7911ad6-1c0a-4dbf-b1d2-60b1d018e9fb"
            },
            "outputs": [],
            "execution_count": 6
        },
        {
            "cell_type": "code",
            "source": [
                "DECLARE @p1 int = 21;\r\n",
                "DECLARE @p2 int = 21;\r\n",
                "EXEC sp_execute_external_script\r\n",
                "  @language = N'Java'\r\n",
                ", @script = N'sql.JavaTest1'\r\n",
                ", @params = N'@x int, @y int'\r\n",
                ", @x = @p1\r\n",
                ", @y = @p2   \r\n",
                "GO"
            ],
            "metadata": {
                "azdata_cell_guid": "680023e8-9f88-4b5d-bc97-43cb96815fd6"
            },
            "outputs": [
                {
                    "output_type": "display_data",
                    "data": {
                        "text/html": "STDOUT message(s) from external script: \nThe result of adding 21 and 21 = 42"
                    },
                    "metadata": {}
                },
                {
                    "output_type": "display_data",
                    "data": {
                        "text/html": "Total execution time: 00:00:01.188"
                    },
                    "metadata": {}
                }
            ],
            "execution_count": 14
        },
        {
            "cell_type": "code",
            "source": [
                "DECLARE @p1 int;\r\n",
                "DECLARE @p2 int;\r\n",
                "\r\n",
                "SELECT @p1 = null, @p2 = 21;\r\n",
                "\r\n",
                "EXEC sp_execute_external_script\r\n",
                "  @language = N'Java'\r\n",
                ", @script = N'sql.JavaTest1'\r\n",
                ", @params = N'@x int, @y int'\r\n",
                ", @x = @p1\r\n",
                ", @y = @p2   \r\n",
                "GO\r\n",
                "\r\n",
                ""
            ],
            "metadata": {
                "azdata_cell_guid": "9fcd268c-3ed4-4c1a-8d1e-1464c35b9065"
            },
            "outputs": [
                {
                    "output_type": "display_data",
                    "data": {
                        "text/html": "STDOUT message(s) from external script: \nThe result of adding null and 21 = null"
                    },
                    "metadata": {}
                },
                {
                    "output_type": "display_data",
                    "data": {
                        "text/html": "Total execution time: 00:00:00.575"
                    },
                    "metadata": {}
                }
            ],
            "execution_count": 15
        },
        {
            "cell_type": "code",
            "source": [
                "DECLARE @p1 int = 21;\r\n",
                "DECLARE @p2 int = 21;\r\n",
                "DECLARE @ret int;\r\n",
                "EXEC sp_execute_external_script\r\n",
                "  @language = N'Java'\r\n",
                ", @script = N'sql.JavaTest1'\r\n",
                ", @params = N'@x int, @y int, @retVal int OUT'\r\n",
                ", @x = @p1\r\n",
                ", @y = @p2  \r\n",
                ", @retVal = @ret OUT;\r\n",
                "\r\n",
                "SELECT @ret AS ReturnValue;\r\n",
                "GO"
            ],
            "metadata": {
                "azdata_cell_guid": "848535ac-5b62-47f4-97c7-1b2c97804588"
            },
            "outputs": [
                {
                    "output_type": "display_data",
                    "data": {
                        "text/html": "(1 row affected)"
                    },
                    "metadata": {}
                },
                {
                    "output_type": "display_data",
                    "data": {
                        "text/html": "Total execution time: 00:00:00.480"
                    },
                    "metadata": {}
                },
                {
                    "output_type": "execute_result",
                    "metadata": {},
                    "execution_count": 27,
                    "data": {
                        "application/vnd.dataresource+json": {
                            "schema": {
                                "fields": [
                                    {
                                        "name": "ReturnValue"
                                    }
                                ]
                            },
                            "data": [
                                {
                                    "0": "42"
                                }
                            ]
                        },
                        "text/html": "<table><tr><th>ReturnValue</th></tr><tr><td>42</td></tr></table>"
                    }
                }
            ],
            "execution_count": 27
        }
    ]
}