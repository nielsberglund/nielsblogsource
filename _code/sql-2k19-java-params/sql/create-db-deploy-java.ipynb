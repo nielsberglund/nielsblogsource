{
    "metadata": {
        "kernelspec": {
            "name": "SQL",
            "display_name": "SQL",
            "language": "sql"
        },
        "language_info": {
            "name": "sql",
            "version": ""
        }
    },
    "nbformat_minor": 2,
    "nbformat": 4,
    "cells": [
        {
            "cell_type": "markdown",
            "source": [
                "# Create DB Objects"
            ],
            "metadata": {
                "azdata_cell_guid": "6efbd91d-203c-4617-ae6b-9376cddd1860"
            }
        },
        {
            "cell_type": "markdown",
            "source": [
                "## Create Database"
            ],
            "metadata": {
                "azdata_cell_guid": "5373c0ce-dffb-4518-88d5-de0d6243a375"
            }
        },
        {
            "cell_type": "code",
            "source": [
                "USE master;"
            ],
            "metadata": {
                "azdata_cell_guid": "408b4e20-d418-473e-89a5-534125bd9305"
            },
            "outputs": [],
            "execution_count": 1
        },
        {
            "cell_type": "code",
            "source": [
                "DROP DATABASE IF EXISTS JavaTestDB;"
            ],
            "metadata": {
                "azdata_cell_guid": "38919c0f-81f3-4a27-bcf2-320141670d0e"
            },
            "outputs": [],
            "execution_count": 2
        },
        {
            "cell_type": "code",
            "source": [
                "CREATE DATABASE JavaTestDB;"
            ],
            "metadata": {
                "azdata_cell_guid": "417235f6-aac0-4653-ae9a-93fbc650033d"
            },
            "outputs": [],
            "execution_count": 3
        },
        {
            "cell_type": "code",
            "source": [
                "USE JavaTestDB;"
            ],
            "metadata": {
                "azdata_cell_guid": "6f76f012-59f1-44c9-a55f-f8af37e6d51a"
            },
            "outputs": [],
            "execution_count": 4
        },
        {
            "cell_type": "code",
            "source": [
                "SELECT DB_NAME();"
            ],
            "metadata": {
                "azdata_cell_guid": "2851fccd-19a0-4a8f-b2ed-92557212a1a3"
            },
            "outputs": [],
            "execution_count": 5
        },
        {
            "cell_type": "markdown",
            "source": [
                "## Deploy Java"
            ],
            "metadata": {
                "azdata_cell_guid": "0511ec65-2f8d-4f8a-80f1-742f1413b591"
            }
        },
        {
            "cell_type": "code",
            "source": [
                "CREATE EXTERNAL LANGUAGE Java\r\n",
                "FROM (CONTENT = 'W:\\java-lang-extension-rc1.zip'\r\n",
                "      , FILE_NAME = 'javaextension.dll');\r\n",
                "GO"
            ],
            "metadata": {
                "azdata_cell_guid": "938c99e0-8b26-407b-aab4-8b380148fd41"
            },
            "outputs": [],
            "execution_count": 6
        },
        {
            "cell_type": "code",
            "source": [
                "SELECT * FROM sys.external_languages;"
            ],
            "metadata": {
                "azdata_cell_guid": "56de2ff6-d3d4-4b18-9619-48a4e93e2c42"
            },
            "outputs": [],
            "execution_count": 7
        },
        {
            "cell_type": "code",
            "source": [
                "CREATE EXTERNAL LIBRARY javaSDK \r\n",
                "FROM (CONTENT = 'W:\\mssql-java-lang-extension-rc1.jar')\r\n",
                "WITH (LANGUAGE = 'Java');\r\n",
                "GO "
            ],
            "metadata": {
                "azdata_cell_guid": "9e36f73a-3c96-4de9-b897-f0cc1ddd5cb9"
            },
            "outputs": [
                {
                    "output_type": "display_data",
                    "data": {
                        "text/html": "Commands completed successfully."
                    },
                    "metadata": {}
                },
                {
                    "output_type": "display_data",
                    "data": {
                        "text/html": "Total execution time: 00:00:00.042"
                    },
                    "metadata": {}
                }
            ],
            "execution_count": 8
        },
        {
            "cell_type": "code",
            "source": [
                "SELECT * FROM sys.external_libraries;"
            ],
            "metadata": {
                "azdata_cell_guid": "66b1e158-3189-4e4f-a99e-b549d8bda3fd"
            },
            "outputs": [
{
    "output_type": "display_data",
    "data": {
        "text/html": "(1 row affected)"
    },
    "metadata": {}
}, {
    "output_type": "display_data",
    "data": {
        "text/html": "Total execution time: 00:00:00.015"
    },
    "metadata": {}
}, {
    "output_type": "execute_result",
    "metadata": {},
    "execution_count": 9,
    "data": {
        "application/vnd.dataresource+json": {
            "schema": {
                "fields": [
                    {
                        "name": "external_library_id"
                    },
                    {
                        "name": "name"
                    },
                    {
                        "name": "principal_id"
                    },
                    {
                        "name": "language"
                    },
                    {
                        "name": "scope"
                    },
                    {
                        "name": "scope_desc"
                    }
                ]
            },
            "data": [
                {
                    "0": "65536",
                    "1": "javaSDK",
                    "2": "1",
                    "3": "Java",
                    "4": "0",
                    "5": "PUBLIC"
                }
            ]
        },
        "text/html": "<table><tr><th>external_library_id</th><th>name</th><th>principal_id</th><th>language</th><th>scope</th><th>scope_desc</th></tr><tr><td>65536</td><td>javaSDK</td><td>1</td><td>Java</td><td>0</td><td>PUBLIC</td></tr></table>"
    }
}
],
            "execution_count": 9
        }
    ]
}