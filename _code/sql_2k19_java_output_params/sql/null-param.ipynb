{
    "metadata": {
        "kernelspec": {
            "name": "SQL",
            "display_name": "SQL",
            "language": "sql"
        },
        "language_info": {
            "name": "sql",
            "version": ""
        }
    },
    "nbformat_minor": 2,
    "nbformat": 4,
    "cells": [
        {
            "cell_type": "markdown",
            "source": [
                "# Paramtest Java"
            ],
            "metadata": {
                "azdata_cell_guid": "e8737efa-2821-4e20-95cf-2de914c1b33f"
            }
        },
        {
            "cell_type": "markdown",
            "source": [
                "## Use correct database"
            ],
            "metadata": {
                "azdata_cell_guid": "e655df66-5bda-45bc-a12f-c77857db47fb"
            }
        },
        {
            "cell_type": "code",
            "source": [
                "USE JavaTest;\r\n",
                "SELECT DB_NAME();"
            ],
            "metadata": {
                "azdata_cell_guid": "aed29bcb-9ff4-4897-80ad-89b26a1d5ad4"
            },
            "outputs": [
                {
                    "output_type": "display_data",
                    "data": {
                        "text/html": "(1 row affected)"
                    },
                    "metadata": {}
                },
                {
                    "output_type": "display_data",
                    "data": {
                        "text/html": "Total execution time: 00:00:00.007"
                    },
                    "metadata": {}
                },
                {
                    "output_type": "execute_result",
                    "metadata": {},
                    "execution_count": 1,
                    "data": {
                        "application/vnd.dataresource+json": {
                            "schema": {
                                "fields": [
                                    {
                                        "name": "(No column name)"
                                    }
                                ]
                            },
                            "data": [
                                {
                                    "0": "JavaTest"
                                }
                            ]
                        },
                        "text/html": "<table><tr><th>(No column name)</th></tr><tr><td>JavaTest</td></tr></table>"
                    }
                }
            ],
            "execution_count": 1
        },
        {
            "cell_type": "markdown",
            "source": [
                "## Drop external library"
            ],
            "metadata": {
                "azdata_cell_guid": "d900248c-bd8a-42f3-bb12-509682d5ac67"
            }
        },
        {
            "cell_type": "code",
            "source": [
                "IF EXISTS(SELECT 1 FROM sys.external_libraries WHERE name = 'ParamTest')\r\n",
                "BEGIN\r\n",
                "  DROP EXTERNAL LIBRARY ParamTest;\r\n",
                "END"
            ],
            "metadata": {
                "azdata_cell_guid": "0fa79c7e-8f48-46db-9fb6-36a9480b626f"
            },
            "outputs": [
                {
                    "output_type": "display_data",
                    "data": {
                        "text/html": "Commands completed successfully."
                    },
                    "metadata": {}
                },
                {
                    "output_type": "display_data",
                    "data": {
                        "text/html": "Total execution time: 00:00:00.009"
                    },
                    "metadata": {}
                }
            ],
            "execution_count": 10
        },
        {
            "cell_type": "markdown",
            "source": [
                "## Create external library"
            ],
            "metadata": {
                "azdata_cell_guid": "c96ec26e-bec2-4611-b1c5-4eb1c5e080eb"
            }
        },
        {
            "cell_type": "code",
            "source": [
                "CREATE EXTERNAL LIBRARY ParamTest \r\n",
                "FROM (CONTENT = 'W:\\sql-1.0.jar')\r\n",
                "WITH (LANGUAGE = 'Java');"
            ],
            "metadata": {
                "azdata_cell_guid": "aee2e732-aaaa-4a40-b291-21ac46e477c6"
            },
            "outputs": [
                {
                    "output_type": "display_data",
                    "data": {
                        "text/html": "Commands completed successfully."
                    },
                    "metadata": {}
                },
                {
                    "output_type": "display_data",
                    "data": {
                        "text/html": "Total execution time: 00:00:00.004"
                    },
                    "metadata": {}
                }
            ],
            "execution_count": 11
        },
        {
            "cell_type": "markdown",
            "source": [
                "## Execute code with param null"
            ],
            "metadata": {
                "azdata_cell_guid": "75e4dd49-cb6b-4154-975a-f47fe4bbcc99"
            }
        },
        {
            "cell_type": "code",
            "source": [
                "DECLARE @p1 int = null;\r\n",
                "DECLARE @p2 int = 21;\r\n",
                "EXEC sp_execute_external_script\r\n",
                "  @language = N'Java'\r\n",
                ", @script = N'sql.JavaTest1'\r\n",
                ", @params = N'@x int, @y int'\r\n",
                ", @x = @p1\r\n",
                ", @y = @p2;"
            ],
            "metadata": {
                "azdata_cell_guid": "05bef7c2-ad8d-4e31-8c08-6831faaaca50"
            },
            "outputs": [
                {
                    "output_type": "display_data",
                    "data": {
                        "text/html": "STDOUT message(s) from external script: \nValue of x = null and y = 21"
                    },
                    "metadata": {}
                },
                {
                    "output_type": "display_data",
                    "data": {
                        "text/html": "Total execution time: 00:00:00.759"
                    },
                    "metadata": {}
                }
            ],
            "execution_count": 9
        },
        {
            "cell_type": "markdown",
            "source": [
                "From the code above, it turns out we need to explicitly check for null values in our code."
            ],
            "metadata": {
                "azdata_cell_guid": "4c32ff41-c982-4cef-bba0-c5764bc85229"
            }
        },
        {
            "cell_type": "markdown",
            "source": [
                "## Use out params"
            ],
            "metadata": {
                "azdata_cell_guid": "36bb7a07-0778-47b9-b51c-4e69292990d2"
            }
        },
        {
            "cell_type": "code",
            "source": [
                "DECLARE @p1 int = null;\n",
                "DECLARE @p2 int = 21;\n",
                "EXEC sp_execute_external_script\n",
                "  @language = N'Java'\n",
                ", @script = N'sql.JavaTest1'\n",
                ", @params = N'@x int out, @y int'\n",
                ", @x = @p1 out\n",
                ", @y = @p2;\n",
                "\n",
                "SELECT @p1;"
            ],
            "metadata": {
                "azdata_cell_guid": "20c1d823-0a04-4005-a810-6ed7c9db1366"
            },
            "outputs": [
{
    "output_type": "display_data",
    "data": {
        "text/html": "STDOUT message(s) from external script: \nValue of x = null and y = 21"
    },
    "metadata": {}
}, {
    "output_type": "display_data",
    "data": {
        "text/html": "(1 row affected)"
    },
    "metadata": {}
}, {
    "output_type": "display_data",
    "data": {
        "text/html": "Total execution time: 00:00:00.631"
    },
    "metadata": {}
}, {
    "output_type": "execute_result",
    "metadata": {},
    "execution_count": 12,
    "data": {
        "application/vnd.dataresource+json": {
            "schema": {
                "fields": [
                    {
                        "name": "(No column name)"
                    }
                ]
            },
            "data": [
                {
                    "0": "42"
                }
            ]
        },
        "text/html": "<table><tr><th>(No column name)</th></tr><tr><td>42</td></tr></table>"
    }
}
],
            "execution_count": 12
        }
    ]
}