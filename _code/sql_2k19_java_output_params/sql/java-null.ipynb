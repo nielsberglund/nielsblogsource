{
    "metadata": {
        "kernelspec": {
            "name": "SQL",
            "display_name": "SQL",
            "language": "sql"
        },
        "language_info": {
            "name": "sql",
            "version": ""
        }
    },
    "nbformat_minor": 2,
    "nbformat": 4,
    "cells": [
        {
            "cell_type": "markdown",
            "source": [
                "# SQL - Java Null Values"
            ],
            "metadata": {
                "azdata_cell_guid": "f0cd1ded-c1b3-4361-a0fc-d4d9ec68ce9c"
            }
        },
        {
            "cell_type": "code",
            "source": [
                "USE JavaNullDB;"
            ],
            "metadata": {
                "azdata_cell_guid": "23085499-2687-41f8-8e37-85a6f0f71293"
            },
            "outputs": [
                {
                    "output_type": "display_data",
                    "data": {
                        "text/html": "Commands completed successfully."
                    },
                    "metadata": {}
                },
                {
                    "output_type": "display_data",
                    "data": {
                        "text/html": "Total execution time: 00:00:00.043"
                    },
                    "metadata": {}
                }
            ],
            "execution_count": 1
        },
        {
            "cell_type": "code",
            "source": [
                "SELECT DB_NAME();"
            ],
            "metadata": {
                "azdata_cell_guid": "11b0778d-ff32-4262-b8f6-5d421cbf1cbe"
            },
            "outputs": [
                {
                    "output_type": "display_data",
                    "data": {
                        "text/html": "(1 row affected)"
                    },
                    "metadata": {}
                },
                {
                    "output_type": "display_data",
                    "data": {
                        "text/html": "Total execution time: 00:00:00.082"
                    },
                    "metadata": {}
                },
                {
                    "output_type": "execute_result",
                    "execution_count": 2,
                    "data": {
                        "application/vnd.dataresource+json": {
                            "schema": {
                                "fields": [
                                    {
                                        "name": "(No column name)"
                                    }
                                ]
                            },
                            "data": [
                                {
                                    "0": "JavaNullDB"
                                }
                            ]
                        },
                        "text/html": "<table><tr><th>(No column name)</th></tr><tr><td>JavaNullDB</td></tr></table>"
                    },
                    "metadata": {}
                }
            ],
            "execution_count": 2
        },
        {
            "cell_type": "code",
            "source": [
                "SELECT RowID, x, y FROM dbo.tb_NullRand10;"
            ],
            "metadata": {
                "azdata_cell_guid": "04391f24-98fa-492c-ad24-c6ecad6d0616"
            },
            "outputs": [
                {
                    "output_type": "display_data",
                    "data": {
                        "text/html": "(10 rows affected)"
                    },
                    "metadata": {}
                },
                {
                    "output_type": "display_data",
                    "data": {
                        "text/html": "Total execution time: 00:00:00.013"
                    },
                    "metadata": {}
                },
                {
                    "output_type": "execute_result",
                    "execution_count": 21,
                    "data": {
                        "application/vnd.dataresource+json": {
                            "schema": {
                                "fields": [
                                    {
                                        "name": "RowID"
                                    },
                                    {
                                        "name": "x"
                                    },
                                    {
                                        "name": "y"
                                    }
                                ]
                            },
                            "data": [
                                {
                                    "0": "1",
                                    "1": "2",
                                    "2": "13"
                                },
                                {
                                    "0": "2",
                                    "1": "9",
                                    "2": "3"
                                },
                                {
                                    "0": "3",
                                    "1": "5",
                                    "2": "NULL"
                                },
                                {
                                    "0": "4",
                                    "1": "5",
                                    "2": "4"
                                },
                                {
                                    "0": "5",
                                    "1": "6",
                                    "2": "11"
                                },
                                {
                                    "0": "6",
                                    "1": "NULL",
                                    "2": "19"
                                },
                                {
                                    "0": "7",
                                    "1": "10",
                                    "2": "0"
                                },
                                {
                                    "0": "8",
                                    "1": "13",
                                    "2": "NULL"
                                },
                                {
                                    "0": "9",
                                    "1": "13",
                                    "2": "7"
                                },
                                {
                                    "0": "10",
                                    "1": "2",
                                    "2": "13"
                                }
                            ]
                        },
                        "text/html": "<table><tr><th>RowID</th><th>x</th><th>y</th></tr><tr><td>1</td><td>2</td><td>13</td></tr><tr><td>2</td><td>9</td><td>3</td></tr><tr><td>3</td><td>5</td><td>NULL</td></tr><tr><td>4</td><td>5</td><td>4</td></tr><tr><td>5</td><td>6</td><td>11</td></tr><tr><td>6</td><td>NULL</td><td>19</td></tr><tr><td>7</td><td>10</td><td>0</td></tr><tr><td>8</td><td>13</td><td>NULL</td></tr><tr><td>9</td><td>13</td><td>7</td></tr><tr><td>10</td><td>2</td><td>13</td></tr></table>"
                    },
                    "metadata": {}
                }
            ],
            "execution_count": 21
        },
        {
            "cell_type": "code",
            "source": [
                "DROP EXTERNAL LIBRARY SqlNullLib;"
            ],
            "metadata": {
                "azdata_cell_guid": "5e93cbf8-fad3-4b0c-acbc-547903adc575"
            },
            "outputs": [
                {
                    "output_type": "display_data",
                    "data": {
                        "text/html": "Commands completed successfully."
                    },
                    "metadata": {}
                },
                {
                    "output_type": "display_data",
                    "data": {
                        "text/html": "Total execution time: 00:00:00.002"
                    },
                    "metadata": {}
                }
            ],
            "execution_count": 6
        },
        {
            "cell_type": "code",
            "source": [
                "CREATE EXTERNAL LIBRARY SqlNullLib \r\n",
                "FROM (CONTENT = 'W:\\sql-null-1.0.jar')\r\n",
                "WITH (LANGUAGE = 'Java');"
            ],
            "metadata": {
                "azdata_cell_guid": "3347ad41-1426-45da-9f19-7a568bf770a4"
            },
            "outputs": [
                {
                    "output_type": "display_data",
                    "data": {
                        "text/html": "Commands completed successfully."
                    },
                    "metadata": {}
                },
                {
                    "output_type": "display_data",
                    "data": {
                        "text/html": "Total execution time: 00:00:00.009"
                    },
                    "metadata": {}
                }
            ],
            "execution_count": 7
        },
        {
            "cell_type": "code",
            "source": [
                "SELECT * FROM sys.external_libraries;"
            ],
            "metadata": {
                "azdata_cell_guid": "eefb3496-71f6-4bec-afb6-2a6233f597a7",
                "tags": [
                    "hide_input"
                ]
            },
            "outputs": [
                {
                    "output_type": "display_data",
                    "data": {
                        "text/html": "(3 rows affected)"
                    },
                    "metadata": {}
                },
                {
                    "output_type": "display_data",
                    "data": {
                        "text/html": "Total execution time: 00:00:00.017"
                    },
                    "metadata": {}
                },
                {
                    "output_type": "execute_result",
                    "execution_count": 9,
                    "data": {
                        "application/vnd.dataresource+json": {
                            "schema": {
                                "fields": [
                                    {
                                        "name": "external_library_id"
                                    },
                                    {
                                        "name": "name"
                                    },
                                    {
                                        "name": "principal_id"
                                    },
                                    {
                                        "name": "language"
                                    },
                                    {
                                        "name": "scope"
                                    },
                                    {
                                        "name": "scope_desc"
                                    }
                                ]
                            },
                            "data": [
                                {
                                    "0": "65536",
                                    "1": "JavaSDK",
                                    "2": "1",
                                    "3": "Java",
                                    "4": "0",
                                    "5": "PUBLIC"
                                },
                                {
                                    "0": "65537",
                                    "1": "JavaTest",
                                    "2": "1",
                                    "3": "Java",
                                    "4": "0",
                                    "5": "PUBLIC"
                                },
                                {
                                    "0": "65539",
                                    "1": "SqlNullLib",
                                    "2": "1",
                                    "3": "Java",
                                    "4": "0",
                                    "5": "PUBLIC"
                                }
                            ]
                        },
                        "text/html": "<table><tr><th>external_library_id</th><th>name</th><th>principal_id</th><th>language</th><th>scope</th><th>scope_desc</th></tr><tr><td>65536</td><td>JavaSDK</td><td>1</td><td>Java</td><td>0</td><td>PUBLIC</td></tr><tr><td>65537</td><td>JavaTest</td><td>1</td><td>Java</td><td>0</td><td>PUBLIC</td></tr><tr><td>65539</td><td>SqlNullLib</td><td>1</td><td>Java</td><td>0</td><td>PUBLIC</td></tr></table>"
                    },
                    "metadata": {}
                }
            ],
            "execution_count": 9
        },
        {
            "cell_type": "code",
            "source": [
                "EXEC sp_execute_external_script\r\n",
                "  @language = N'Java'\r\n",
                ", @script = N'sql.NullValues'\r\n",
                ", @input_data_1 = N'SELECT RowID, x, y FROM dbo.tb_NullRand10'\r\n",
                "--WITH RESULT SETS((RowID int, x int, y int))"
            ],
            "metadata": {
                "azdata_cell_guid": "32b1adc7-213b-49be-be19-eeba2520dd89"
            },
            "outputs": [
                {
                    "output_type": "display_data",
                    "data": {
                        "text/html": "STDOUT message(s) from external script: \nAverage value of y is: 8,750000"
                    },
                    "metadata": {}
                },
                {
                    "output_type": "display_data",
                    "data": {
                        "text/html": "Total execution time: 00:00:00.624"
                    },
                    "metadata": {}
                }
            ],
            "execution_count": 8
        },
        {
            "cell_type": "code",
            "source": [
                "SELECT CAST(AVG(CAST(y AS DECIMAL(4,2)))AS DECIMAL(4,2))\r\n",
                "FROM dbo.tb_NullRand10;"
            ],
            "metadata": {
                "azdata_cell_guid": "975903df-37b1-468e-b5c5-412991447123",
                "tags": []
            },
            "outputs": [
                {
                    "output_type": "display_data",
                    "data": {
                        "text/html": "Warning: Null value is eliminated by an aggregate or other SET operation."
                    },
                    "metadata": {}
                },
                {
                    "output_type": "display_data",
                    "data": {
                        "text/html": "(1 row affected)"
                    },
                    "metadata": {}
                },
                {
                    "output_type": "display_data",
                    "data": {
                        "text/html": "Total execution time: 00:00:00.004"
                    },
                    "metadata": {}
                },
                {
                    "output_type": "execute_result",
                    "execution_count": 6,
                    "data": {
                        "application/vnd.dataresource+json": {
                            "schema": {
                                "fields": [
                                    {
                                        "name": "(No column name)"
                                    }
                                ]
                            },
                            "data": [
                                {
                                    "0": "8.75"
                                }
                            ]
                        },
                        "text/html": "<table><tr><th>(No column name)</th></tr><tr><td>8.75</td></tr></table>"
                    },
                    "metadata": {}
                }
            ],
            "execution_count": 6
        }
    ]
}